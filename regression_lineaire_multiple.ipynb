{
  "cells": [
    {
      "cell_type": "markdown",
      "metadata": {
        "id": "view-in-github",
        "colab_type": "text"
      },
      "source": [
        "<a href=\"https://colab.research.google.com/github/topdeveloppement/ai-nexus-one-machine-learning/blob/main/regression_lineaire_multiple.ipynb\" target=\"_parent\"><img src=\"https://colab.research.google.com/assets/colab-badge.svg\" alt=\"Open In Colab\"/></a>"
      ]
    },
    {
      "cell_type": "markdown",
      "id": "introduction",
      "metadata": {
        "id": "introduction"
      },
      "source": [
        "<div style=\"position: relative; border-radius: 20px; overflow: hidden;\">\n",
        "    <img src=\"https://github.com/topdeveloppement/ai-nexus-one-machine-learning/blob/main/ml.jpeg?raw=true\\\" alt=\"Régression Linéaire Multiple\" style=\"width: 100%; height: auto; display: block;\">\n",
        "    <div style=\"position: absolute; top: 50%; left: 20px; transform: translateY(-50%); padding: 10px 20px; border-radius: 8px; font-size: 1.5em; color: white; font-weight: bold;\">\n",
        "        Introduction à la Régression Linéaire Multiple\n",
        "    </div>\n",
        "</div>\n",
        "\n",
        "<div style=\"padding: 20px; box-shadow: 0 4px 8px rgba(0, 0, 0, 0.1); border-radius: 8px; margin: 15px auto;\">\n",
        "    <div style=\"display: flex; align-items: center;\">\n",
        "        <div style=\"flex: 0 0 auto; margin-right: 10px;\">\n",
        "            <img src=\"https://github.com/topdeveloppement.png\" alt=\"Photo de l'auteur\" style=\"border-radius: 4px; width: 100px; height: 100px; object-fit: cover;\">\n",
        "        </div>\n",
        "        <div style=\"text-align: left;\">\n",
        "            <h3 style=\"margin: 4px 0; font-size: 1.5em;\">Auteur : Omar Kennouche</h3>\n",
        "            <p style=\"margin: 0;\">Fonction : Chef de Projet Intelligence Artificielle et RPA</p>\n",
        "            <p style=\"margin: 0;\">Entreprise : AI Nexus One</p>\n",
        "            <p style=\"margin: 0;\">Contact : <a href=\"mailto:contact@topdeveloppement.tech\" style=\"color: #0073e6; text-decoration: none;\">contact@topdeveloppement.tech</a></p>\n",
        "        </div>\n",
        "    </div>\n",
        "</div>\n",
        "\n",
        "### Présentation d'AI Nexus One\n",
        "\n",
        "**AI Nexus One** est un projet innovant de **formation** et de **développement de solutions en intelligence artificielle**, conçu pour accompagner les entreprises dans l’exploitation des technologies avancées afin d’**optimiser leurs opérations**, **innover**, et renforcer leur **compétitivité**.\n",
        "\n",
        "### Structure d'AI Nexus One\n",
        "\n",
        "AI Nexus One est structuré autour de trois branches principales :\n",
        "\n",
        "- **Genesis** : modules de formation approfondis permettant aux entreprises de comprendre et maîtriser les concepts de l'IA.\n",
        "- **Osiris** : assistant intelligent centralisé, conçu pour gérer des tâches complexes et optimiser les processus.\n",
        "- **Flow** : orientée vers l'automatisation et la fluidification des processus métier.\n",
        "\n",
        "### 🌐 Objectifs et Services\n",
        "\n",
        "AI Nexus One propose :\n",
        "- Une gamme complète de **modules de formation** sur des sujets comme le Machine Learning, la vision par ordinateur, et l’automatisation (RPA).\n",
        "- Des solutions **sur mesure** adaptées aux besoins des entreprises.\n",
        "- Un accompagnement pour faciliter l'**intégration pratique de l'IA** dans des domaines tels que les ressources humaines, la gestion des données et la relation client.\n",
        "\n",
        "### 🤝 Vision\n",
        "\n",
        "En somme, **AI Nexus One** se veut un partenaire de choix pour les entreprises cherchant à se démarquer dans un monde en évolution rapide, tout en conservant une approche **humaine** et **intuitive** des technologies.\n",
        "\n",
        "---\n",
        "\n",
        "# 🌟 La Régression Linéaire Multiple\n",
        "\n",
        "La **régression linéaire multiple** est une extension de la régression linéaire simple qui permet de modéliser la relation entre une variable dépendante (à prédire) et plusieurs variables indépendantes (explicatives). Elle est particulièrement utile lorsque le phénomène étudié est influencé par plusieurs facteurs.\n",
        "\n",
        "## 🎯 Définition et Objectifs\n",
        "\n",
        "- **Objectif principal** : Comprendre comment plusieurs variables indépendantes influencent une variable dépendante, et utiliser ce modèle pour prédire des valeurs futures.\n",
        "- **Modélisation** : Identifier et ajuster un hyperplan dans un espace multidimensionnel qui représente au mieux les relations linéaires entre les variables.\n",
        "\n",
        "## 📈 Cas d'Utilisation et Exemples Concrets\n",
        "\n",
        "La régression linéaire multiple est utilisée dans divers domaines, notamment :\n",
        "\n",
        "- 🌾 **Agriculture** : Prédire le rendement d'une culture en fonction de la quantité de fertilisant, des précipitations, de la température, et du type de sol.\n",
        "- 🏠 **Immobilier** : Estimer le prix d'un bien immobilier en fonction de sa superficie, du nombre de pièces, de l'emplacement, et de l'âge du bâtiment.\n",
        "- 📊 **Économie** : Prévoir les ventes d'une entreprise en fonction du budget marketing, du prix du produit, et des tendances du marché.\n",
        "\n",
        "## ⚙️ Hypothèses de Base\n",
        "\n",
        "Les hypothèses de la régression linéaire multiple sont similaires à celles de la régression linéaire simple :\n",
        "\n",
        "1. **📐 Linéarité** : La relation entre les variables indépendantes et la variable dépendante est linéaire.\n",
        "2. **🔗 Indépendance des erreurs** : Les résidus sont indépendants les uns des autres.\n",
        "3. **⚖️ Homoscedasticité** : La variance des erreurs est constante pour toutes les valeurs des variables indépendantes.\n",
        "4. **📊 Normalité des erreurs** : Les erreurs suivent une distribution normale.\n",
        "5. **🚫 Absence de multicolinéarité** : Les variables indépendantes ne doivent pas être fortement corrélées entre elles.\n",
        "\n",
        "---\n"
      ]
    },
    {
      "cell_type": "markdown",
      "id": "preparation-environnement",
      "metadata": {
        "id": "preparation-environnement"
      },
      "source": [
        "# 🛠️ Préparation de l'Environnement\n",
        "\n",
        "Dans cette section, nous allons :\n",
        "\n",
        "- 📦 Importer les bibliothèques nécessaires.\n",
        "- 📂 Charger les données d'exemple.\n",
        "\n",
        "---\n"
      ]
    },
    {
      "cell_type": "code",
      "execution_count": null,
      "id": "importation-bibliotheques",
      "metadata": {
        "id": "importation-bibliotheques"
      },
      "outputs": [],
      "source": [
        "# Importation des bibliothèques nécessaires\n",
        "\n",
        "import numpy as np\n",
        "import pandas as pd\n",
        "import matplotlib.pyplot as plt\n",
        "import seaborn as sns\n",
        "\n",
        "from sklearn.linear_model import LinearRegression\n",
        "from sklearn.model_selection import train_test_split\n",
        "from sklearn.metrics import mean_squared_error, mean_absolute_error, r2_score\n",
        "\n",
        "# Paramètres d'affichage\n",
        "%matplotlib inline\n",
        "sns.set_style('whitegrid')\n",
        "\n",
        "print(\"Les bibliothèques ont été importées avec succès.\")"
      ]
    },
    {
      "cell_type": "markdown",
      "id": "chargement-donnees",
      "metadata": {
        "id": "chargement-donnees"
      },
      "source": [
        "## 📊 Chargement des Données d'Exemple\n",
        "\n",
        "Pour cet exemple, nous allons créer un jeu de données synthétique simulant le rendement en céréales en fonction de plusieurs variables :\n",
        "\n",
        "- **Fertilizer** : Quantité de fertilisant utilisée.\n",
        "- **Rainfall** : Précipitations.\n",
        "- **Temperature** : Température moyenne.\n",
        "- **Soil_Type** : Type de sol.\n",
        "\n",
        "---\n"
      ]
    },
    {
      "cell_type": "code",
      "execution_count": null,
      "id": "creation-dataset",
      "metadata": {
        "id": "creation-dataset"
      },
      "outputs": [],
      "source": [
        "# Création d'un dataset synthétique\n",
        "np.random.seed(42)\n",
        "n_samples = 100\n",
        "\n",
        "# Variables indépendantes\n",
        "fertilizer = np.random.uniform(0, 100, n_samples)  # Fertilizer in kg/ha\n",
        "rainfall = np.random.uniform(50, 200, n_samples)   # Rainfall in mm\n",
        "temperature = np.random.uniform(10, 30, n_samples) # Temperature in Celsius\n",
        "\n",
        "# Variable catégorielle : Type de sol\n",
        "soil_types = ['Argileux', 'Sableux', 'Limoneux']\n",
        "soil_type = np.random.choice(soil_types, n_samples)\n",
        "\n",
        "# Coefficients réels pour la simulation\n",
        "beta_0 = 5    # Intercept\n",
        "beta_1 = 0.4  # Coefficient pour Fertilizer\n",
        "beta_2 = 0.1  # Coefficient pour Rainfall\n",
        "beta_3 = 0.5  # Coefficient pour Temperature\n",
        "beta_soil = {'Argileux': -5, 'Sableux': -2, 'Limoneux': 0}\n",
        "\n",
        "# Génération du rendement avec un bruit gaussien\n",
        "yield_cereals = (\n",
        "    beta_0\n",
        "    + beta_1 * fertilizer\n",
        "    + beta_2 * rainfall\n",
        "    + beta_3 * temperature\n",
        "    + pd.Series(soil_type).map(beta_soil)\n",
        "    + np.random.normal(0, 5, n_samples)\n",
        ")\n",
        "\n",
        "# Création du DataFrame\n",
        "data = pd.DataFrame({\n",
        "    'Fertilizer': fertilizer,\n",
        "    'Rainfall': rainfall,\n",
        "    'Temperature': temperature,\n",
        "    'Soil_Type': soil_type,\n",
        "    'Yield': yield_cereals\n",
        "})\n",
        "\n",
        "# Affichage des premières lignes\n",
        "data.head()"
      ]
    },
    {
      "cell_type": "markdown",
      "id": "exploration-donnees",
      "metadata": {
        "id": "exploration-donnees"
      },
      "source": [
        "# 🔍 Exploration et Visualisation des Données\n",
        "\n",
        "Dans cette section, nous allons :\n",
        "\n",
        "- 🗂️ Afficher les premières lignes du dataset.\n",
        "- 📊 Obtenir des statistiques descriptives.\n",
        "- 📈 Visualiser la distribution des variables.\n",
        "- 🌐 Créer des nuages de points.\n",
        "\n",
        "---\n"
      ]
    },
    {
      "cell_type": "code",
      "execution_count": null,
      "id": "affichage-donnees",
      "metadata": {
        "id": "affichage-donnees"
      },
      "outputs": [],
      "source": [
        "# Affichage des premières lignes\n",
        "data.head()"
      ]
    },
    {
      "cell_type": "code",
      "execution_count": null,
      "id": "statistiques-descriptives",
      "metadata": {
        "id": "statistiques-descriptives"
      },
      "outputs": [],
      "source": [
        "# Statistiques descriptives\n",
        "data.describe()"
      ]
    },
    {
      "cell_type": "code",
      "execution_count": null,
      "id": "distribution-variables",
      "metadata": {
        "id": "distribution-variables"
      },
      "outputs": [],
      "source": [
        "# Visualisation de la distribution des variables numériques\n",
        "data.hist(bins=20, figsize=(12, 8), color='skyblue')\n",
        "plt.tight_layout()\n",
        "plt.show()"
      ]
    },
    {
      "cell_type": "code",
      "execution_count": null,
      "id": "nuage-points",
      "metadata": {
        "id": "nuage-points"
      },
      "outputs": [],
      "source": [
        "# Nuages de points pour chaque variable indépendante vs Yield\n",
        "fig, axes = plt.subplots(1, 3, figsize=(18, 5))\n",
        "sns.scatterplot(ax=axes[0], x='Fertilizer', y='Yield', data=data)\n",
        "sns.scatterplot(ax=axes[1], x='Rainfall', y='Yield', data=data)\n",
        "sns.scatterplot(ax=axes[2], x='Temperature', y='Yield', data=data)\n",
        "axes[0].set_title('Fertilizer vs Yield')\n",
        "axes[1].set_title('Rainfall vs Yield')\n",
        "axes[2].set_title('Temperature vs Yield')\n",
        "plt.show()"
      ]
    },
    {
      "cell_type": "markdown",
      "id": "pretraitement-donnees",
      "metadata": {
        "id": "pretraitement-donnees"
      },
      "source": [
        "# 🧹 Prétraitement des Données\n",
        "\n",
        "Nous allons :\n",
        "\n",
        "- 🔍 Vérifier les valeurs manquantes.\n",
        "- 🧪 Encoder la variable catégorielle 'Soil_Type'.\n",
        "- 🧪 Séparer les données en ensembles d'entraînement et de test.\n",
        "\n",
        "---\n"
      ]
    },
    {
      "cell_type": "code",
      "execution_count": null,
      "id": "valeurs-manquantes",
      "metadata": {
        "id": "valeurs-manquantes"
      },
      "outputs": [],
      "source": [
        "# Vérification des valeurs manquantes\n",
        "data.isnull().sum()"
      ]
    },
    {
      "cell_type": "code",
      "execution_count": null,
      "id": "encodage-variable",
      "metadata": {
        "id": "encodage-variable"
      },
      "outputs": [],
      "source": [
        "# Encodage de la variable 'Soil_Type' en variables dummy\n",
        "data = pd.get_dummies(data, columns=['Soil_Type'], drop_first=True)\n",
        "data.head()"
      ]
    },
    {
      "cell_type": "code",
      "execution_count": null,
      "id": "separation-variables",
      "metadata": {
        "id": "separation-variables"
      },
      "outputs": [],
      "source": [
        "# Séparation des variables indépendantes et dépendante\n",
        "X = data.drop('Yield', axis=1)\n",
        "y = data['Yield']"
      ]
    },
    {
      "cell_type": "code",
      "execution_count": null,
      "id": "division-donnees",
      "metadata": {
        "id": "division-donnees"
      },
      "outputs": [],
      "source": [
        "# Division en ensembles d'entraînement et de test\n",
        "X_train, X_test, y_train, y_test = train_test_split(X, y, test_size=0.2, random_state=42)"
      ]
    },
    {
      "cell_type": "markdown",
      "id": "implementation-modele-multiple",
      "metadata": {
        "id": "implementation-modele-multiple"
      },
      "source": [
        "# 📐 Implémentation de la Régression Linéaire Multiple\n",
        "\n",
        "Nous allons :\n",
        "\n",
        "- ⚙️ Entraîner le modèle de régression linéaire multiple.\n",
        "- 📝 Afficher les coefficients.\n",
        "\n",
        "---\n"
      ]
    },
    {
      "cell_type": "code",
      "execution_count": null,
      "id": "entrainement-modele-multiple",
      "metadata": {
        "id": "entrainement-modele-multiple"
      },
      "outputs": [],
      "source": [
        "# Création du modèle\n",
        "model = LinearRegression()\n",
        "\n",
        "# Entraînement du modèle\n",
        "model.fit(X_train, y_train)\n",
        "\n",
        "# Coefficients du modèle\n",
        "coefficients = pd.DataFrame({\n",
        "    'Variable': X_train.columns,\n",
        "    'Coefficient': model.coef_\n",
        "})\n",
        "\n",
        "print(f\"Ordonnée à l'origine (interception): {model.intercept_:.2f}\")\n",
        "coefficients"
      ]
    },
    {
      "cell_type": "markdown",
      "id": "evaluation-modele-multiple",
      "metadata": {
        "id": "evaluation-modele-multiple"
      },
      "source": [
        "# 📊 Évaluation du Modèle\n",
        "\n",
        "Nous allons :\n",
        "\n",
        "- 📏 Calculer les métriques de performance.\n",
        "- 🔍 Interpréter les résultats.\n",
        "\n",
        "---\n"
      ]
    },
    {
      "cell_type": "code",
      "execution_count": null,
      "id": "predictions-modele-multiple",
      "metadata": {
        "id": "predictions-modele-multiple"
      },
      "outputs": [],
      "source": [
        "# Prédictions sur l'ensemble de test\n",
        "y_pred = model.predict(X_test)\n",
        "\n",
        "# Calcul des métriques\n",
        "mse = mean_squared_error(y_test, y_pred)\n",
        "rmse = np.sqrt(mse)\n",
        "mae = mean_absolute_error(y_test, y_pred)\n",
        "r2 = r2_score(y_test, y_pred)\n",
        "\n",
        "print(f\"Mean Squared Error (MSE): {mse:.2f}\")\n",
        "print(f\"Root Mean Squared Error (RMSE): {rmse:.2f}\")\n",
        "print(f\"Mean Absolute Error (MAE): {mae:.2f}\")\n",
        "print(f\"Coefficient de Détermination (R²): {r2:.2f}\")"
      ]
    },
    {
      "cell_type": "markdown",
      "id": "interpretation-resultats-multiple",
      "metadata": {
        "id": "interpretation-resultats-multiple"
      },
      "source": [
        "## 🔍 Interprétation des Résultats\n",
        "\n",
        "- Les coefficients indiquent l'effet de chaque variable sur le rendement.\n",
        "- Le **R²** élevé suggère que le modèle explique bien la variance des données.\n",
        "\n",
        "---\n"
      ]
    },
    {
      "cell_type": "markdown",
      "id": "visualisation-resultats-multiple",
      "metadata": {
        "id": "visualisation-resultats-multiple"
      },
      "source": [
        "# 📉 Visualisation des Résultats\n",
        "\n",
        "Nous allons :\n",
        "\n",
        "- 📊 Visualiser les coefficients du modèle.\n",
        "- 🔍 Analyser les résidus.\n",
        "\n",
        "---\n"
      ]
    },
    {
      "cell_type": "code",
      "execution_count": null,
      "id": "visualisation-coefficients",
      "metadata": {
        "id": "visualisation-coefficients"
      },
      "outputs": [],
      "source": [
        "# Visualisation des coefficients\n",
        "coefficients.set_index('Variable', inplace=True)\n",
        "coefficients.plot(kind='bar', figsize=(10,6))\n",
        "plt.title('Coefficients du Modèle de Régression Linéaire Multiple')\n",
        "plt.ylabel('Coefficient')\n",
        "plt.show()"
      ]
    },
    {
      "cell_type": "code",
      "execution_count": null,
      "id": "analyse-residus-multiple",
      "metadata": {
        "id": "analyse-residus-multiple"
      },
      "outputs": [],
      "source": [
        "# Calcul des résidus\n",
        "residuals = y_test - y_pred\n",
        "\n",
        "# Visualisation des résidus\n",
        "plt.figure(figsize=(8,6))\n",
        "sns.histplot(residuals, kde=True, color='purple')\n",
        "plt.title('Distribution des Résidus')\n",
        "plt.xlabel('Résidus')\n",
        "plt.ylabel('Fréquence')\n",
        "plt.show()"
      ]
    },
    {
      "cell_type": "markdown",
      "id": "predictions-nouveau-modele",
      "metadata": {
        "id": "predictions-nouveau-modele"
      },
      "source": [
        "# 🔮 Prédictions avec le Nouveau Modèle\n",
        "\n",
        "Supposons que nous souhaitons prédire le rendement pour les conditions suivantes :\n",
        "\n",
        "- **Fertilizer** : 60 kg/ha\n",
        "- **Rainfall** : 150 mm\n",
        "- **Temperature** : 25°C\n",
        "- **Soil_Type** : Limoneux\n",
        "\n",
        "---\n"
      ]
    },
    {
      "cell_type": "code",
      "execution_count": null,
      "id": "nouvelles-predictions-multiple",
      "metadata": {
        "id": "nouvelles-predictions-multiple"
      },
      "outputs": [],
      "source": [
        "# Création du DataFrame pour les nouvelles données\n",
        "new_data = pd.DataFrame({\n",
        "    'Fertilizer': [60],\n",
        "    'Rainfall': [150],\n",
        "    'Temperature': [25],\n",
        "    'Soil_Type_Sableux': [0],\n",
        "    'Soil_Type_Limoneux': [1]\n",
        "})\n",
        "\n",
        "# Prédiction\n",
        "predicted_yield = model.predict(new_data)\n",
        "\n",
        "print(f\"Pour les conditions données, le rendement prédit est de {predicted_yield[0]:.2f} tonnes/ha\")"
      ]
    },
    {
      "cell_type": "markdown",
      "id": "diagnostic-modele-multiple",
      "metadata": {
        "id": "diagnostic-modele-multiple"
      },
      "source": [
        "# 🩺 Diagnostic du Nouveau Modèle\n",
        "\n",
        "Nous allons :\n",
        "\n",
        "- **Vérifier les hypothèses de la régression linéaire multiple**.\n",
        "- **Analyser les résidus**.\n",
        "\n",
        "---\n"
      ]
    },
    {
      "cell_type": "code",
      "execution_count": null,
      "id": "verification-hypotheses-multiple",
      "metadata": {
        "id": "verification-hypotheses-multiple"
      },
      "outputs": [],
      "source": [
        "# Vérification de la normalité des résidus\n",
        "plt.figure(figsize=(8,6))\n",
        "sns.histplot(residuals, kde=True, color='purple')\n",
        "plt.title('Distribution des Résidus')\n",
        "plt.xlabel('Résidus')\n",
        "plt.ylabel('Fréquence')\n",
        "plt.show()"
      ]
    },
    {
      "cell_type": "markdown",
      "id": "ameliorations-potentielles",
      "metadata": {
        "id": "ameliorations-potentielles"
      },
      "source": [
        "# 🚀 Améliorations Potentielles\n",
        "\n",
        "- **Interaction entre les Variables** : Ajouter des termes d'interaction.\n",
        "- **Variables Supplémentaires** : Inclure d'autres facteurs.\n",
        "- **Techniques Avancées** : Utiliser des méthodes de régularisation.\n",
        "\n",
        "---\n"
      ]
    },
    {
      "cell_type": "markdown",
      "id": "conclusion-multiple",
      "metadata": {
        "id": "conclusion-multiple"
      },
      "source": [
        "# 📌 Conclusion\n",
        "\n",
        "Nous avons :\n",
        "\n",
        "- **Exploré** le concept de régression linéaire multiple et ses applications dans le contexte agricole.\n",
        "- **Créé** un dataset synthétique pour simuler la relation entre plusieurs variables et le rendement.\n",
        "- **Implémenté** le modèle de régression linéaire multiple avec scikit-learn.\n",
        "- **Évalué** le modèle en utilisant diverses métriques et en analysant les résidus.\n",
        "- **Discuté** des moyens d'améliorer le modèle et des limites de la régression linéaire multiple.\n",
        "\n",
        "**Auteur :** Omar Kennouche, fondateur de **AI Nexus One**\n",
        "\n",
        "---\n",
        "\n",
        "*Merci d'avoir suivi ce notebook ! N'hésitez pas à explorer davantage et à appliquer ces techniques à vos propres données.*\n"
      ]
    },
    {
      "cell_type": "markdown",
      "id": "exercices-supplementaires",
      "metadata": {
        "id": "exercices-supplementaires"
      },
      "source": [
        "# 📝 Exercices Supplémentaires\n",
        "\n",
        "1. **Tester d'autres Variables** : Ajouter des variables comme l'humidité du sol ou la densité de plantation et observer l'impact sur le modèle.\n",
        "2. **Analyse des Interactions** : Inclure des termes d'interaction entre les variables (par exemple, `Fertilizer * Rainfall`).\n",
        "3. **Validation Croisée** : Utiliser la validation croisée pour évaluer la robustesse du modèle.\n",
        "\n",
        "---\n"
      ]
    },
    {
      "cell_type": "markdown",
      "id": "ressources-supplementaires-multiple",
      "metadata": {
        "id": "ressources-supplementaires-multiple"
      },
      "source": [
        "# 📚 Ressources Supplémentaires\n",
        "\n",
        "- 📘 [Documentation Scikit-Learn - Régression Linéaire](https://scikit-learn.org/stable/modules/linear_model.html)\n",
        "- 🎓 [Cours sur la Régression Linéaire Multiple - StatQuest (Vidéo)](https://www.youtube.com/watch?v=J_LnPL3Qg70)\n",
        "- 📖 [Livre : \"Applied Linear Statistical Models\"](https://www.amazon.fr/Applied-Linear-Statistical-Models-Kutner/dp/0071122214)\n",
        "\n",
        "---\n"
      ]
    }
  ],
  "metadata": {
    "kernelspec": {
      "display_name": "Python 3",
      "language": "python",
      "name": "python3"
    },
    "language_info": {
      "name": "python",
      "version": ""
    },
    "colab": {
      "provenance": [],
      "include_colab_link": true
    }
  },
  "nbformat": 4,
  "nbformat_minor": 5
}