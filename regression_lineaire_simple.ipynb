{
  "cells": [
    {
      "cell_type": "markdown",
      "metadata": {
        "id": "view-in-github",
        "colab_type": "text"
      },
      "source": [
        "<a href=\"https://colab.research.google.com/github/topdeveloppement/ai-nexus-one-machine-learning/blob/main/regression_lineaire_simple.ipynb\" target=\"_parent\"><img src=\"https://colab.research.google.com/assets/colab-badge.svg\" alt=\"Open In Colab\"/></a>"
      ]
    },
    {
      "cell_type": "markdown",
      "id": "introduction",
      "metadata": {
        "id": "introduction"
      },
      "source": [
        "# 📊 Introduction à la Régression Linéaire Simple\n",
        "\n",
        "<img src=\"https://github.com/topdeveloppement.png\" alt=\"Photo de l'auteur\" width=\"100\" style=\"border-radius: 10px;\"/>\n",
        "\n",
        "<details>\n",
        "<summary style=\"font-family: 'Brush Script MT', cursive; font-size: 1.5em;\">ℹ️ À propos de AI Nexus One</summary>\n",
        "\n",
        "**Auteur :** Omar Kennouche, fondateur de **AI Nexus One**  \n",
        "**AI Nexus One** est un projet dédié à la formation et au développement de solutions en intelligence artificielle, visant à accompagner les entreprises dans l'exploitation des technologies avancées pour **optimiser leurs opérations** et **innover**.\n",
        "\n",
        "AI Nexus One propose une gamme complète de **modules de formation** sur des sujets comme le Machine Learning, la vision par ordinateur, et l’automatisation (RPA). Il développe aussi des solutions **sur mesure** et offre un accompagnement pour faciliter l'**intégration pratique de l'IA** dans des domaines tels que les ressources humaines, la gestion des données et la relation client.\n",
        "\n",
        "En somme, **AI Nexus One** se veut un partenaire pour les entreprises cherchant à se démarquer dans un monde en évolution rapide, tout en conservant une approche **humaine** et **intuitive** des technologies.\n",
        "</details>\n",
        "\n",
        "\n",
        "\n",
        "<div style=\"text-align: center;\">\n",
        "    <img src=\"https://github.com/topdeveloppement/ai-nexus-one-machine-learning/blob/main/ml.jpeg?raw=true\" alt=\"Régression Linéaire\" style=\"width: 100%; height: auto;\">\n",
        "</div>\n",
        "\n",
        "\n",
        "La **régression linéaire simple** est une méthode statistique permettant de modéliser la relation entre une variable indépendante (explicative) et une variable dépendante (à prédire) en ajustant une droite aux données observées.\n",
        "\n",
        "## Définition et Objectifs\n",
        "\n",
        "- **Objectif principal** : Prédire la valeur de la variable dépendante en fonction de la variable indépendante.\n",
        "- **Modélisation** : Trouver la meilleure droite qui représente la relation entre les deux variables.\n",
        "\n",
        "## Cas d'Utilisation et Exemples Concrets\n",
        "\n",
        "- Prédire le **rendement d'une culture** en fonction de la quantité de fertilisant utilisée.\n",
        "- Estimer la **production de céréales** d'une coopérative en fonction du nombre d'adhérents.\n",
        "- Anticiper la **demande de marché** en fonction des tendances précédentes.\n",
        "\n",
        "## Hypothèses de Base\n",
        "\n",
        "1. **Linéarité** : Il existe une relation linéaire entre la variable indépendante et la variable dépendante.\n",
        "2. **Indépendance des erreurs** : Les résidus (erreurs) sont indépendants les uns des autres.\n",
        "3. **Homoscedasticité** : La variance des erreurs est constante pour toutes les valeurs de la variable indépendante.\n",
        "4. **Normalité des erreurs** : Les erreurs sont distribuées normalement.\n",
        "\n",
        "---"
      ]
    },
    {
      "cell_type": "markdown",
      "id": "preparation-environnement",
      "metadata": {
        "id": "preparation-environnement"
      },
      "source": [
        "# Préparation de l'Environnement\n",
        "\n",
        "Dans cette section, nous allons :\n",
        "\n",
        "- Importer les bibliothèques nécessaires.\n",
        "- Charger les données d'exemple.\n",
        "\n",
        "---"
      ]
    },
    {
      "cell_type": "code",
      "execution_count": 1,
      "id": "importation-bibliotheques",
      "metadata": {
        "colab": {
          "base_uri": "https://localhost:8080/"
        },
        "id": "importation-bibliotheques",
        "outputId": "ac0babe5-5bed-44d4-b8a5-e8373c204c7d"
      },
      "outputs": [
        {
          "output_type": "stream",
          "name": "stdout",
          "text": [
            "Les bibliothèques ont été importées avec succès.\n"
          ]
        }
      ],
      "source": [
        "# Importation des bibliothèques nécessaires\n",
        "\n",
        "import numpy as np\n",
        "import pandas as pd\n",
        "import matplotlib.pyplot as plt\n",
        "import seaborn as sns\n",
        "\n",
        "from sklearn.linear_model import LinearRegression\n",
        "from sklearn.model_selection import train_test_split\n",
        "from sklearn.metrics import mean_squared_error, mean_absolute_error, r2_score\n",
        "\n",
        "# Paramètres d'affichage\n",
        "%matplotlib inline\n",
        "sns.set_style('whitegrid')\n",
        "\n",
        "print(\"Les bibliothèques ont été importées avec succès.\")"
      ]
    },
    {
      "cell_type": "markdown",
      "id": "chargement-donnees",
      "metadata": {
        "id": "chargement-donnees"
      },
      "source": [
        "## Chargement des Données d'Exemple\n",
        "\n",
        "Pour cet exemple, nous allons créer un jeu de données synthétique simulant le rendement en céréales en fonction de la quantité de fertilisant utilisée.\n",
        "\n",
        "---"
      ]
    },
    {
      "cell_type": "code",
      "execution_count": 2,
      "id": "creation-dataset",
      "metadata": {
        "colab": {
          "base_uri": "https://localhost:8080/",
          "height": 206
        },
        "id": "creation-dataset",
        "outputId": "7e2a86bb-fe06-4107-ba9f-e68fa4336d2e"
      },
      "outputs": [
        {
          "output_type": "execute_result",
          "data": {
            "text/plain": [
              "   Fertilizer      Yield\n",
              "0   37.454012  21.162241\n",
              "1   95.071431  48.040679\n",
              "2   73.199394  39.058501\n",
              "3   59.865848  21.995080\n",
              "4   15.601864   8.702573"
            ],
            "text/html": [
              "\n",
              "  <div id=\"df-58ab5ffe-2c16-4060-80ed-ebcc30750860\" class=\"colab-df-container\">\n",
              "    <div>\n",
              "<style scoped>\n",
              "    .dataframe tbody tr th:only-of-type {\n",
              "        vertical-align: middle;\n",
              "    }\n",
              "\n",
              "    .dataframe tbody tr th {\n",
              "        vertical-align: top;\n",
              "    }\n",
              "\n",
              "    .dataframe thead th {\n",
              "        text-align: right;\n",
              "    }\n",
              "</style>\n",
              "<table border=\"1\" class=\"dataframe\">\n",
              "  <thead>\n",
              "    <tr style=\"text-align: right;\">\n",
              "      <th></th>\n",
              "      <th>Fertilizer</th>\n",
              "      <th>Yield</th>\n",
              "    </tr>\n",
              "  </thead>\n",
              "  <tbody>\n",
              "    <tr>\n",
              "      <th>0</th>\n",
              "      <td>37.454012</td>\n",
              "      <td>21.162241</td>\n",
              "    </tr>\n",
              "    <tr>\n",
              "      <th>1</th>\n",
              "      <td>95.071431</td>\n",
              "      <td>48.040679</td>\n",
              "    </tr>\n",
              "    <tr>\n",
              "      <th>2</th>\n",
              "      <td>73.199394</td>\n",
              "      <td>39.058501</td>\n",
              "    </tr>\n",
              "    <tr>\n",
              "      <th>3</th>\n",
              "      <td>59.865848</td>\n",
              "      <td>21.995080</td>\n",
              "    </tr>\n",
              "    <tr>\n",
              "      <th>4</th>\n",
              "      <td>15.601864</td>\n",
              "      <td>8.702573</td>\n",
              "    </tr>\n",
              "  </tbody>\n",
              "</table>\n",
              "</div>\n",
              "    <div class=\"colab-df-buttons\">\n",
              "\n",
              "  <div class=\"colab-df-container\">\n",
              "    <button class=\"colab-df-convert\" onclick=\"convertToInteractive('df-58ab5ffe-2c16-4060-80ed-ebcc30750860')\"\n",
              "            title=\"Convert this dataframe to an interactive table.\"\n",
              "            style=\"display:none;\">\n",
              "\n",
              "  <svg xmlns=\"http://www.w3.org/2000/svg\" height=\"24px\" viewBox=\"0 -960 960 960\">\n",
              "    <path d=\"M120-120v-720h720v720H120Zm60-500h600v-160H180v160Zm220 220h160v-160H400v160Zm0 220h160v-160H400v160ZM180-400h160v-160H180v160Zm440 0h160v-160H620v160ZM180-180h160v-160H180v160Zm440 0h160v-160H620v160Z\"/>\n",
              "  </svg>\n",
              "    </button>\n",
              "\n",
              "  <style>\n",
              "    .colab-df-container {\n",
              "      display:flex;\n",
              "      gap: 12px;\n",
              "    }\n",
              "\n",
              "    .colab-df-convert {\n",
              "      background-color: #E8F0FE;\n",
              "      border: none;\n",
              "      border-radius: 50%;\n",
              "      cursor: pointer;\n",
              "      display: none;\n",
              "      fill: #1967D2;\n",
              "      height: 32px;\n",
              "      padding: 0 0 0 0;\n",
              "      width: 32px;\n",
              "    }\n",
              "\n",
              "    .colab-df-convert:hover {\n",
              "      background-color: #E2EBFA;\n",
              "      box-shadow: 0px 1px 2px rgba(60, 64, 67, 0.3), 0px 1px 3px 1px rgba(60, 64, 67, 0.15);\n",
              "      fill: #174EA6;\n",
              "    }\n",
              "\n",
              "    .colab-df-buttons div {\n",
              "      margin-bottom: 4px;\n",
              "    }\n",
              "\n",
              "    [theme=dark] .colab-df-convert {\n",
              "      background-color: #3B4455;\n",
              "      fill: #D2E3FC;\n",
              "    }\n",
              "\n",
              "    [theme=dark] .colab-df-convert:hover {\n",
              "      background-color: #434B5C;\n",
              "      box-shadow: 0px 1px 3px 1px rgba(0, 0, 0, 0.15);\n",
              "      filter: drop-shadow(0px 1px 2px rgba(0, 0, 0, 0.3));\n",
              "      fill: #FFFFFF;\n",
              "    }\n",
              "  </style>\n",
              "\n",
              "    <script>\n",
              "      const buttonEl =\n",
              "        document.querySelector('#df-58ab5ffe-2c16-4060-80ed-ebcc30750860 button.colab-df-convert');\n",
              "      buttonEl.style.display =\n",
              "        google.colab.kernel.accessAllowed ? 'block' : 'none';\n",
              "\n",
              "      async function convertToInteractive(key) {\n",
              "        const element = document.querySelector('#df-58ab5ffe-2c16-4060-80ed-ebcc30750860');\n",
              "        const dataTable =\n",
              "          await google.colab.kernel.invokeFunction('convertToInteractive',\n",
              "                                                    [key], {});\n",
              "        if (!dataTable) return;\n",
              "\n",
              "        const docLinkHtml = 'Like what you see? Visit the ' +\n",
              "          '<a target=\"_blank\" href=https://colab.research.google.com/notebooks/data_table.ipynb>data table notebook</a>'\n",
              "          + ' to learn more about interactive tables.';\n",
              "        element.innerHTML = '';\n",
              "        dataTable['output_type'] = 'display_data';\n",
              "        await google.colab.output.renderOutput(dataTable, element);\n",
              "        const docLink = document.createElement('div');\n",
              "        docLink.innerHTML = docLinkHtml;\n",
              "        element.appendChild(docLink);\n",
              "      }\n",
              "    </script>\n",
              "  </div>\n",
              "\n",
              "\n",
              "<div id=\"df-b2b52020-2421-4a99-85fa-24cbd1da5dcc\">\n",
              "  <button class=\"colab-df-quickchart\" onclick=\"quickchart('df-b2b52020-2421-4a99-85fa-24cbd1da5dcc')\"\n",
              "            title=\"Suggest charts\"\n",
              "            style=\"display:none;\">\n",
              "\n",
              "<svg xmlns=\"http://www.w3.org/2000/svg\" height=\"24px\"viewBox=\"0 0 24 24\"\n",
              "     width=\"24px\">\n",
              "    <g>\n",
              "        <path d=\"M19 3H5c-1.1 0-2 .9-2 2v14c0 1.1.9 2 2 2h14c1.1 0 2-.9 2-2V5c0-1.1-.9-2-2-2zM9 17H7v-7h2v7zm4 0h-2V7h2v10zm4 0h-2v-4h2v4z\"/>\n",
              "    </g>\n",
              "</svg>\n",
              "  </button>\n",
              "\n",
              "<style>\n",
              "  .colab-df-quickchart {\n",
              "      --bg-color: #E8F0FE;\n",
              "      --fill-color: #1967D2;\n",
              "      --hover-bg-color: #E2EBFA;\n",
              "      --hover-fill-color: #174EA6;\n",
              "      --disabled-fill-color: #AAA;\n",
              "      --disabled-bg-color: #DDD;\n",
              "  }\n",
              "\n",
              "  [theme=dark] .colab-df-quickchart {\n",
              "      --bg-color: #3B4455;\n",
              "      --fill-color: #D2E3FC;\n",
              "      --hover-bg-color: #434B5C;\n",
              "      --hover-fill-color: #FFFFFF;\n",
              "      --disabled-bg-color: #3B4455;\n",
              "      --disabled-fill-color: #666;\n",
              "  }\n",
              "\n",
              "  .colab-df-quickchart {\n",
              "    background-color: var(--bg-color);\n",
              "    border: none;\n",
              "    border-radius: 50%;\n",
              "    cursor: pointer;\n",
              "    display: none;\n",
              "    fill: var(--fill-color);\n",
              "    height: 32px;\n",
              "    padding: 0;\n",
              "    width: 32px;\n",
              "  }\n",
              "\n",
              "  .colab-df-quickchart:hover {\n",
              "    background-color: var(--hover-bg-color);\n",
              "    box-shadow: 0 1px 2px rgba(60, 64, 67, 0.3), 0 1px 3px 1px rgba(60, 64, 67, 0.15);\n",
              "    fill: var(--button-hover-fill-color);\n",
              "  }\n",
              "\n",
              "  .colab-df-quickchart-complete:disabled,\n",
              "  .colab-df-quickchart-complete:disabled:hover {\n",
              "    background-color: var(--disabled-bg-color);\n",
              "    fill: var(--disabled-fill-color);\n",
              "    box-shadow: none;\n",
              "  }\n",
              "\n",
              "  .colab-df-spinner {\n",
              "    border: 2px solid var(--fill-color);\n",
              "    border-color: transparent;\n",
              "    border-bottom-color: var(--fill-color);\n",
              "    animation:\n",
              "      spin 1s steps(1) infinite;\n",
              "  }\n",
              "\n",
              "  @keyframes spin {\n",
              "    0% {\n",
              "      border-color: transparent;\n",
              "      border-bottom-color: var(--fill-color);\n",
              "      border-left-color: var(--fill-color);\n",
              "    }\n",
              "    20% {\n",
              "      border-color: transparent;\n",
              "      border-left-color: var(--fill-color);\n",
              "      border-top-color: var(--fill-color);\n",
              "    }\n",
              "    30% {\n",
              "      border-color: transparent;\n",
              "      border-left-color: var(--fill-color);\n",
              "      border-top-color: var(--fill-color);\n",
              "      border-right-color: var(--fill-color);\n",
              "    }\n",
              "    40% {\n",
              "      border-color: transparent;\n",
              "      border-right-color: var(--fill-color);\n",
              "      border-top-color: var(--fill-color);\n",
              "    }\n",
              "    60% {\n",
              "      border-color: transparent;\n",
              "      border-right-color: var(--fill-color);\n",
              "    }\n",
              "    80% {\n",
              "      border-color: transparent;\n",
              "      border-right-color: var(--fill-color);\n",
              "      border-bottom-color: var(--fill-color);\n",
              "    }\n",
              "    90% {\n",
              "      border-color: transparent;\n",
              "      border-bottom-color: var(--fill-color);\n",
              "    }\n",
              "  }\n",
              "</style>\n",
              "\n",
              "  <script>\n",
              "    async function quickchart(key) {\n",
              "      const quickchartButtonEl =\n",
              "        document.querySelector('#' + key + ' button');\n",
              "      quickchartButtonEl.disabled = true;  // To prevent multiple clicks.\n",
              "      quickchartButtonEl.classList.add('colab-df-spinner');\n",
              "      try {\n",
              "        const charts = await google.colab.kernel.invokeFunction(\n",
              "            'suggestCharts', [key], {});\n",
              "      } catch (error) {\n",
              "        console.error('Error during call to suggestCharts:', error);\n",
              "      }\n",
              "      quickchartButtonEl.classList.remove('colab-df-spinner');\n",
              "      quickchartButtonEl.classList.add('colab-df-quickchart-complete');\n",
              "    }\n",
              "    (() => {\n",
              "      let quickchartButtonEl =\n",
              "        document.querySelector('#df-b2b52020-2421-4a99-85fa-24cbd1da5dcc button');\n",
              "      quickchartButtonEl.style.display =\n",
              "        google.colab.kernel.accessAllowed ? 'block' : 'none';\n",
              "    })();\n",
              "  </script>\n",
              "</div>\n",
              "\n",
              "    </div>\n",
              "  </div>\n"
            ],
            "application/vnd.google.colaboratory.intrinsic+json": {
              "type": "dataframe",
              "variable_name": "data",
              "summary": "{\n  \"name\": \"data\",\n  \"rows\": 100,\n  \"fields\": [\n    {\n      \"column\": \"Fertilizer\",\n      \"properties\": {\n        \"dtype\": \"number\",\n        \"std\": 29.748941101531923,\n        \"min\": 0.5522117123602399,\n        \"max\": 98.68869366005173,\n        \"num_unique_values\": 100,\n        \"samples\": [\n          6.355835028602364,\n          89.48273504276489,\n          77.22447692966574\n        ],\n        \"semantic_type\": \"\",\n        \"description\": \"\"\n      }\n    },\n    {\n      \"column\": \"Yield\",\n      \"properties\": {\n        \"dtype\": \"number\",\n        \"std\": 14.890967757601507,\n        \"min\": -0.33575672564211256,\n        \"max\": 55.25346118891242,\n        \"num_unique_values\": 100,\n        \"samples\": [\n          8.460685557470331,\n          44.223989250801445,\n          34.42748491044246\n        ],\n        \"semantic_type\": \"\",\n        \"description\": \"\"\n      }\n    }\n  ]\n}"
            }
          },
          "metadata": {},
          "execution_count": 2
        }
      ],
      "source": [
        "# Création d'un dataset synthétique\n",
        "np.random.seed(42)\n",
        "n_samples = 100\n",
        "fertilizer = np.random.uniform(0, 100, n_samples)  # Quantité de fertilisant en kg/ha\n",
        "yield_cereals = 2 + 0.5 * fertilizer + np.random.normal(0, 5, n_samples)  # Rendement en tonnes/ha\n",
        "\n",
        "# Conversion en DataFrame pandas\n",
        "data = pd.DataFrame({'Fertilizer': fertilizer, 'Yield': yield_cereals})\n",
        "\n",
        "# Affichage des 5 premières lignes\n",
        "data.head()"
      ]
    },
    {
      "cell_type": "markdown",
      "id": "exploration-donnees",
      "metadata": {
        "id": "exploration-donnees"
      },
      "source": [
        "# Exploration et Visualisation des Données\n",
        "\n",
        "Dans cette section, nous allons :\n",
        "\n",
        "- Afficher les premières lignes du dataset.\n",
        "- Obtenir des statistiques descriptives.\n",
        "- Visualiser la distribution des variables.\n",
        "- Créer un nuage de points (scatter plot).\n",
        "\n",
        "---"
      ]
    },
    {
      "cell_type": "code",
      "execution_count": 3,
      "id": "affichage-donnees",
      "metadata": {
        "colab": {
          "base_uri": "https://localhost:8080/",
          "height": 206
        },
        "id": "affichage-donnees",
        "outputId": "ff72c1e4-f321-45f4-feba-8b3974686095"
      },
      "outputs": [
        {
          "output_type": "execute_result",
          "data": {
            "text/plain": [
              "   Fertilizer      Yield\n",
              "0   37.454012  21.162241\n",
              "1   95.071431  48.040679\n",
              "2   73.199394  39.058501\n",
              "3   59.865848  21.995080\n",
              "4   15.601864   8.702573"
            ],
            "text/html": [
              "\n",
              "  <div id=\"df-e9866ed7-b202-4145-bebf-7f14ba8bc157\" class=\"colab-df-container\">\n",
              "    <div>\n",
              "<style scoped>\n",
              "    .dataframe tbody tr th:only-of-type {\n",
              "        vertical-align: middle;\n",
              "    }\n",
              "\n",
              "    .dataframe tbody tr th {\n",
              "        vertical-align: top;\n",
              "    }\n",
              "\n",
              "    .dataframe thead th {\n",
              "        text-align: right;\n",
              "    }\n",
              "</style>\n",
              "<table border=\"1\" class=\"dataframe\">\n",
              "  <thead>\n",
              "    <tr style=\"text-align: right;\">\n",
              "      <th></th>\n",
              "      <th>Fertilizer</th>\n",
              "      <th>Yield</th>\n",
              "    </tr>\n",
              "  </thead>\n",
              "  <tbody>\n",
              "    <tr>\n",
              "      <th>0</th>\n",
              "      <td>37.454012</td>\n",
              "      <td>21.162241</td>\n",
              "    </tr>\n",
              "    <tr>\n",
              "      <th>1</th>\n",
              "      <td>95.071431</td>\n",
              "      <td>48.040679</td>\n",
              "    </tr>\n",
              "    <tr>\n",
              "      <th>2</th>\n",
              "      <td>73.199394</td>\n",
              "      <td>39.058501</td>\n",
              "    </tr>\n",
              "    <tr>\n",
              "      <th>3</th>\n",
              "      <td>59.865848</td>\n",
              "      <td>21.995080</td>\n",
              "    </tr>\n",
              "    <tr>\n",
              "      <th>4</th>\n",
              "      <td>15.601864</td>\n",
              "      <td>8.702573</td>\n",
              "    </tr>\n",
              "  </tbody>\n",
              "</table>\n",
              "</div>\n",
              "    <div class=\"colab-df-buttons\">\n",
              "\n",
              "  <div class=\"colab-df-container\">\n",
              "    <button class=\"colab-df-convert\" onclick=\"convertToInteractive('df-e9866ed7-b202-4145-bebf-7f14ba8bc157')\"\n",
              "            title=\"Convert this dataframe to an interactive table.\"\n",
              "            style=\"display:none;\">\n",
              "\n",
              "  <svg xmlns=\"http://www.w3.org/2000/svg\" height=\"24px\" viewBox=\"0 -960 960 960\">\n",
              "    <path d=\"M120-120v-720h720v720H120Zm60-500h600v-160H180v160Zm220 220h160v-160H400v160Zm0 220h160v-160H400v160ZM180-400h160v-160H180v160Zm440 0h160v-160H620v160ZM180-180h160v-160H180v160Zm440 0h160v-160H620v160Z\"/>\n",
              "  </svg>\n",
              "    </button>\n",
              "\n",
              "  <style>\n",
              "    .colab-df-container {\n",
              "      display:flex;\n",
              "      gap: 12px;\n",
              "    }\n",
              "\n",
              "    .colab-df-convert {\n",
              "      background-color: #E8F0FE;\n",
              "      border: none;\n",
              "      border-radius: 50%;\n",
              "      cursor: pointer;\n",
              "      display: none;\n",
              "      fill: #1967D2;\n",
              "      height: 32px;\n",
              "      padding: 0 0 0 0;\n",
              "      width: 32px;\n",
              "    }\n",
              "\n",
              "    .colab-df-convert:hover {\n",
              "      background-color: #E2EBFA;\n",
              "      box-shadow: 0px 1px 2px rgba(60, 64, 67, 0.3), 0px 1px 3px 1px rgba(60, 64, 67, 0.15);\n",
              "      fill: #174EA6;\n",
              "    }\n",
              "\n",
              "    .colab-df-buttons div {\n",
              "      margin-bottom: 4px;\n",
              "    }\n",
              "\n",
              "    [theme=dark] .colab-df-convert {\n",
              "      background-color: #3B4455;\n",
              "      fill: #D2E3FC;\n",
              "    }\n",
              "\n",
              "    [theme=dark] .colab-df-convert:hover {\n",
              "      background-color: #434B5C;\n",
              "      box-shadow: 0px 1px 3px 1px rgba(0, 0, 0, 0.15);\n",
              "      filter: drop-shadow(0px 1px 2px rgba(0, 0, 0, 0.3));\n",
              "      fill: #FFFFFF;\n",
              "    }\n",
              "  </style>\n",
              "\n",
              "    <script>\n",
              "      const buttonEl =\n",
              "        document.querySelector('#df-e9866ed7-b202-4145-bebf-7f14ba8bc157 button.colab-df-convert');\n",
              "      buttonEl.style.display =\n",
              "        google.colab.kernel.accessAllowed ? 'block' : 'none';\n",
              "\n",
              "      async function convertToInteractive(key) {\n",
              "        const element = document.querySelector('#df-e9866ed7-b202-4145-bebf-7f14ba8bc157');\n",
              "        const dataTable =\n",
              "          await google.colab.kernel.invokeFunction('convertToInteractive',\n",
              "                                                    [key], {});\n",
              "        if (!dataTable) return;\n",
              "\n",
              "        const docLinkHtml = 'Like what you see? Visit the ' +\n",
              "          '<a target=\"_blank\" href=https://colab.research.google.com/notebooks/data_table.ipynb>data table notebook</a>'\n",
              "          + ' to learn more about interactive tables.';\n",
              "        element.innerHTML = '';\n",
              "        dataTable['output_type'] = 'display_data';\n",
              "        await google.colab.output.renderOutput(dataTable, element);\n",
              "        const docLink = document.createElement('div');\n",
              "        docLink.innerHTML = docLinkHtml;\n",
              "        element.appendChild(docLink);\n",
              "      }\n",
              "    </script>\n",
              "  </div>\n",
              "\n",
              "\n",
              "<div id=\"df-67233851-5798-4cc6-bc4f-69a8c4913664\">\n",
              "  <button class=\"colab-df-quickchart\" onclick=\"quickchart('df-67233851-5798-4cc6-bc4f-69a8c4913664')\"\n",
              "            title=\"Suggest charts\"\n",
              "            style=\"display:none;\">\n",
              "\n",
              "<svg xmlns=\"http://www.w3.org/2000/svg\" height=\"24px\"viewBox=\"0 0 24 24\"\n",
              "     width=\"24px\">\n",
              "    <g>\n",
              "        <path d=\"M19 3H5c-1.1 0-2 .9-2 2v14c0 1.1.9 2 2 2h14c1.1 0 2-.9 2-2V5c0-1.1-.9-2-2-2zM9 17H7v-7h2v7zm4 0h-2V7h2v10zm4 0h-2v-4h2v4z\"/>\n",
              "    </g>\n",
              "</svg>\n",
              "  </button>\n",
              "\n",
              "<style>\n",
              "  .colab-df-quickchart {\n",
              "      --bg-color: #E8F0FE;\n",
              "      --fill-color: #1967D2;\n",
              "      --hover-bg-color: #E2EBFA;\n",
              "      --hover-fill-color: #174EA6;\n",
              "      --disabled-fill-color: #AAA;\n",
              "      --disabled-bg-color: #DDD;\n",
              "  }\n",
              "\n",
              "  [theme=dark] .colab-df-quickchart {\n",
              "      --bg-color: #3B4455;\n",
              "      --fill-color: #D2E3FC;\n",
              "      --hover-bg-color: #434B5C;\n",
              "      --hover-fill-color: #FFFFFF;\n",
              "      --disabled-bg-color: #3B4455;\n",
              "      --disabled-fill-color: #666;\n",
              "  }\n",
              "\n",
              "  .colab-df-quickchart {\n",
              "    background-color: var(--bg-color);\n",
              "    border: none;\n",
              "    border-radius: 50%;\n",
              "    cursor: pointer;\n",
              "    display: none;\n",
              "    fill: var(--fill-color);\n",
              "    height: 32px;\n",
              "    padding: 0;\n",
              "    width: 32px;\n",
              "  }\n",
              "\n",
              "  .colab-df-quickchart:hover {\n",
              "    background-color: var(--hover-bg-color);\n",
              "    box-shadow: 0 1px 2px rgba(60, 64, 67, 0.3), 0 1px 3px 1px rgba(60, 64, 67, 0.15);\n",
              "    fill: var(--button-hover-fill-color);\n",
              "  }\n",
              "\n",
              "  .colab-df-quickchart-complete:disabled,\n",
              "  .colab-df-quickchart-complete:disabled:hover {\n",
              "    background-color: var(--disabled-bg-color);\n",
              "    fill: var(--disabled-fill-color);\n",
              "    box-shadow: none;\n",
              "  }\n",
              "\n",
              "  .colab-df-spinner {\n",
              "    border: 2px solid var(--fill-color);\n",
              "    border-color: transparent;\n",
              "    border-bottom-color: var(--fill-color);\n",
              "    animation:\n",
              "      spin 1s steps(1) infinite;\n",
              "  }\n",
              "\n",
              "  @keyframes spin {\n",
              "    0% {\n",
              "      border-color: transparent;\n",
              "      border-bottom-color: var(--fill-color);\n",
              "      border-left-color: var(--fill-color);\n",
              "    }\n",
              "    20% {\n",
              "      border-color: transparent;\n",
              "      border-left-color: var(--fill-color);\n",
              "      border-top-color: var(--fill-color);\n",
              "    }\n",
              "    30% {\n",
              "      border-color: transparent;\n",
              "      border-left-color: var(--fill-color);\n",
              "      border-top-color: var(--fill-color);\n",
              "      border-right-color: var(--fill-color);\n",
              "    }\n",
              "    40% {\n",
              "      border-color: transparent;\n",
              "      border-right-color: var(--fill-color);\n",
              "      border-top-color: var(--fill-color);\n",
              "    }\n",
              "    60% {\n",
              "      border-color: transparent;\n",
              "      border-right-color: var(--fill-color);\n",
              "    }\n",
              "    80% {\n",
              "      border-color: transparent;\n",
              "      border-right-color: var(--fill-color);\n",
              "      border-bottom-color: var(--fill-color);\n",
              "    }\n",
              "    90% {\n",
              "      border-color: transparent;\n",
              "      border-bottom-color: var(--fill-color);\n",
              "    }\n",
              "  }\n",
              "</style>\n",
              "\n",
              "  <script>\n",
              "    async function quickchart(key) {\n",
              "      const quickchartButtonEl =\n",
              "        document.querySelector('#' + key + ' button');\n",
              "      quickchartButtonEl.disabled = true;  // To prevent multiple clicks.\n",
              "      quickchartButtonEl.classList.add('colab-df-spinner');\n",
              "      try {\n",
              "        const charts = await google.colab.kernel.invokeFunction(\n",
              "            'suggestCharts', [key], {});\n",
              "      } catch (error) {\n",
              "        console.error('Error during call to suggestCharts:', error);\n",
              "      }\n",
              "      quickchartButtonEl.classList.remove('colab-df-spinner');\n",
              "      quickchartButtonEl.classList.add('colab-df-quickchart-complete');\n",
              "    }\n",
              "    (() => {\n",
              "      let quickchartButtonEl =\n",
              "        document.querySelector('#df-67233851-5798-4cc6-bc4f-69a8c4913664 button');\n",
              "      quickchartButtonEl.style.display =\n",
              "        google.colab.kernel.accessAllowed ? 'block' : 'none';\n",
              "    })();\n",
              "  </script>\n",
              "</div>\n",
              "\n",
              "    </div>\n",
              "  </div>\n"
            ],
            "application/vnd.google.colaboratory.intrinsic+json": {
              "type": "dataframe",
              "variable_name": "data",
              "summary": "{\n  \"name\": \"data\",\n  \"rows\": 100,\n  \"fields\": [\n    {\n      \"column\": \"Fertilizer\",\n      \"properties\": {\n        \"dtype\": \"number\",\n        \"std\": 29.748941101531923,\n        \"min\": 0.5522117123602399,\n        \"max\": 98.68869366005173,\n        \"num_unique_values\": 100,\n        \"samples\": [\n          6.355835028602364,\n          89.48273504276489,\n          77.22447692966574\n        ],\n        \"semantic_type\": \"\",\n        \"description\": \"\"\n      }\n    },\n    {\n      \"column\": \"Yield\",\n      \"properties\": {\n        \"dtype\": \"number\",\n        \"std\": 14.890967757601507,\n        \"min\": -0.33575672564211256,\n        \"max\": 55.25346118891242,\n        \"num_unique_values\": 100,\n        \"samples\": [\n          8.460685557470331,\n          44.223989250801445,\n          34.42748491044246\n        ],\n        \"semantic_type\": \"\",\n        \"description\": \"\"\n      }\n    }\n  ]\n}"
            }
          },
          "metadata": {},
          "execution_count": 3
        }
      ],
      "source": [
        "# Affichage des premières lignes\n",
        "data.head()"
      ]
    },
    {
      "cell_type": "code",
      "execution_count": 4,
      "id": "statistiques-descriptives",
      "metadata": {
        "colab": {
          "base_uri": "https://localhost:8080/",
          "height": 300
        },
        "id": "statistiques-descriptives",
        "outputId": "72f2467f-49dc-42e8-bf2a-232ad1d26935"
      },
      "outputs": [
        {
          "output_type": "execute_result",
          "data": {
            "text/plain": [
              "       Fertilizer       Yield\n",
              "count  100.000000  100.000000\n",
              "mean    47.018074   25.503635\n",
              "std     29.748941   14.890968\n",
              "min      0.552212   -0.335757\n",
              "25%     19.320076   12.514701\n",
              "50%     46.414245   23.155532\n",
              "75%     73.020312   38.649577\n",
              "max     98.688694   55.253461"
            ],
            "text/html": [
              "\n",
              "  <div id=\"df-204b64ac-b174-48ef-9187-c12af0f9d77d\" class=\"colab-df-container\">\n",
              "    <div>\n",
              "<style scoped>\n",
              "    .dataframe tbody tr th:only-of-type {\n",
              "        vertical-align: middle;\n",
              "    }\n",
              "\n",
              "    .dataframe tbody tr th {\n",
              "        vertical-align: top;\n",
              "    }\n",
              "\n",
              "    .dataframe thead th {\n",
              "        text-align: right;\n",
              "    }\n",
              "</style>\n",
              "<table border=\"1\" class=\"dataframe\">\n",
              "  <thead>\n",
              "    <tr style=\"text-align: right;\">\n",
              "      <th></th>\n",
              "      <th>Fertilizer</th>\n",
              "      <th>Yield</th>\n",
              "    </tr>\n",
              "  </thead>\n",
              "  <tbody>\n",
              "    <tr>\n",
              "      <th>count</th>\n",
              "      <td>100.000000</td>\n",
              "      <td>100.000000</td>\n",
              "    </tr>\n",
              "    <tr>\n",
              "      <th>mean</th>\n",
              "      <td>47.018074</td>\n",
              "      <td>25.503635</td>\n",
              "    </tr>\n",
              "    <tr>\n",
              "      <th>std</th>\n",
              "      <td>29.748941</td>\n",
              "      <td>14.890968</td>\n",
              "    </tr>\n",
              "    <tr>\n",
              "      <th>min</th>\n",
              "      <td>0.552212</td>\n",
              "      <td>-0.335757</td>\n",
              "    </tr>\n",
              "    <tr>\n",
              "      <th>25%</th>\n",
              "      <td>19.320076</td>\n",
              "      <td>12.514701</td>\n",
              "    </tr>\n",
              "    <tr>\n",
              "      <th>50%</th>\n",
              "      <td>46.414245</td>\n",
              "      <td>23.155532</td>\n",
              "    </tr>\n",
              "    <tr>\n",
              "      <th>75%</th>\n",
              "      <td>73.020312</td>\n",
              "      <td>38.649577</td>\n",
              "    </tr>\n",
              "    <tr>\n",
              "      <th>max</th>\n",
              "      <td>98.688694</td>\n",
              "      <td>55.253461</td>\n",
              "    </tr>\n",
              "  </tbody>\n",
              "</table>\n",
              "</div>\n",
              "    <div class=\"colab-df-buttons\">\n",
              "\n",
              "  <div class=\"colab-df-container\">\n",
              "    <button class=\"colab-df-convert\" onclick=\"convertToInteractive('df-204b64ac-b174-48ef-9187-c12af0f9d77d')\"\n",
              "            title=\"Convert this dataframe to an interactive table.\"\n",
              "            style=\"display:none;\">\n",
              "\n",
              "  <svg xmlns=\"http://www.w3.org/2000/svg\" height=\"24px\" viewBox=\"0 -960 960 960\">\n",
              "    <path d=\"M120-120v-720h720v720H120Zm60-500h600v-160H180v160Zm220 220h160v-160H400v160Zm0 220h160v-160H400v160ZM180-400h160v-160H180v160Zm440 0h160v-160H620v160ZM180-180h160v-160H180v160Zm440 0h160v-160H620v160Z\"/>\n",
              "  </svg>\n",
              "    </button>\n",
              "\n",
              "  <style>\n",
              "    .colab-df-container {\n",
              "      display:flex;\n",
              "      gap: 12px;\n",
              "    }\n",
              "\n",
              "    .colab-df-convert {\n",
              "      background-color: #E8F0FE;\n",
              "      border: none;\n",
              "      border-radius: 50%;\n",
              "      cursor: pointer;\n",
              "      display: none;\n",
              "      fill: #1967D2;\n",
              "      height: 32px;\n",
              "      padding: 0 0 0 0;\n",
              "      width: 32px;\n",
              "    }\n",
              "\n",
              "    .colab-df-convert:hover {\n",
              "      background-color: #E2EBFA;\n",
              "      box-shadow: 0px 1px 2px rgba(60, 64, 67, 0.3), 0px 1px 3px 1px rgba(60, 64, 67, 0.15);\n",
              "      fill: #174EA6;\n",
              "    }\n",
              "\n",
              "    .colab-df-buttons div {\n",
              "      margin-bottom: 4px;\n",
              "    }\n",
              "\n",
              "    [theme=dark] .colab-df-convert {\n",
              "      background-color: #3B4455;\n",
              "      fill: #D2E3FC;\n",
              "    }\n",
              "\n",
              "    [theme=dark] .colab-df-convert:hover {\n",
              "      background-color: #434B5C;\n",
              "      box-shadow: 0px 1px 3px 1px rgba(0, 0, 0, 0.15);\n",
              "      filter: drop-shadow(0px 1px 2px rgba(0, 0, 0, 0.3));\n",
              "      fill: #FFFFFF;\n",
              "    }\n",
              "  </style>\n",
              "\n",
              "    <script>\n",
              "      const buttonEl =\n",
              "        document.querySelector('#df-204b64ac-b174-48ef-9187-c12af0f9d77d button.colab-df-convert');\n",
              "      buttonEl.style.display =\n",
              "        google.colab.kernel.accessAllowed ? 'block' : 'none';\n",
              "\n",
              "      async function convertToInteractive(key) {\n",
              "        const element = document.querySelector('#df-204b64ac-b174-48ef-9187-c12af0f9d77d');\n",
              "        const dataTable =\n",
              "          await google.colab.kernel.invokeFunction('convertToInteractive',\n",
              "                                                    [key], {});\n",
              "        if (!dataTable) return;\n",
              "\n",
              "        const docLinkHtml = 'Like what you see? Visit the ' +\n",
              "          '<a target=\"_blank\" href=https://colab.research.google.com/notebooks/data_table.ipynb>data table notebook</a>'\n",
              "          + ' to learn more about interactive tables.';\n",
              "        element.innerHTML = '';\n",
              "        dataTable['output_type'] = 'display_data';\n",
              "        await google.colab.output.renderOutput(dataTable, element);\n",
              "        const docLink = document.createElement('div');\n",
              "        docLink.innerHTML = docLinkHtml;\n",
              "        element.appendChild(docLink);\n",
              "      }\n",
              "    </script>\n",
              "  </div>\n",
              "\n",
              "\n",
              "<div id=\"df-3d67373c-5831-4765-8e86-a5b715750f25\">\n",
              "  <button class=\"colab-df-quickchart\" onclick=\"quickchart('df-3d67373c-5831-4765-8e86-a5b715750f25')\"\n",
              "            title=\"Suggest charts\"\n",
              "            style=\"display:none;\">\n",
              "\n",
              "<svg xmlns=\"http://www.w3.org/2000/svg\" height=\"24px\"viewBox=\"0 0 24 24\"\n",
              "     width=\"24px\">\n",
              "    <g>\n",
              "        <path d=\"M19 3H5c-1.1 0-2 .9-2 2v14c0 1.1.9 2 2 2h14c1.1 0 2-.9 2-2V5c0-1.1-.9-2-2-2zM9 17H7v-7h2v7zm4 0h-2V7h2v10zm4 0h-2v-4h2v4z\"/>\n",
              "    </g>\n",
              "</svg>\n",
              "  </button>\n",
              "\n",
              "<style>\n",
              "  .colab-df-quickchart {\n",
              "      --bg-color: #E8F0FE;\n",
              "      --fill-color: #1967D2;\n",
              "      --hover-bg-color: #E2EBFA;\n",
              "      --hover-fill-color: #174EA6;\n",
              "      --disabled-fill-color: #AAA;\n",
              "      --disabled-bg-color: #DDD;\n",
              "  }\n",
              "\n",
              "  [theme=dark] .colab-df-quickchart {\n",
              "      --bg-color: #3B4455;\n",
              "      --fill-color: #D2E3FC;\n",
              "      --hover-bg-color: #434B5C;\n",
              "      --hover-fill-color: #FFFFFF;\n",
              "      --disabled-bg-color: #3B4455;\n",
              "      --disabled-fill-color: #666;\n",
              "  }\n",
              "\n",
              "  .colab-df-quickchart {\n",
              "    background-color: var(--bg-color);\n",
              "    border: none;\n",
              "    border-radius: 50%;\n",
              "    cursor: pointer;\n",
              "    display: none;\n",
              "    fill: var(--fill-color);\n",
              "    height: 32px;\n",
              "    padding: 0;\n",
              "    width: 32px;\n",
              "  }\n",
              "\n",
              "  .colab-df-quickchart:hover {\n",
              "    background-color: var(--hover-bg-color);\n",
              "    box-shadow: 0 1px 2px rgba(60, 64, 67, 0.3), 0 1px 3px 1px rgba(60, 64, 67, 0.15);\n",
              "    fill: var(--button-hover-fill-color);\n",
              "  }\n",
              "\n",
              "  .colab-df-quickchart-complete:disabled,\n",
              "  .colab-df-quickchart-complete:disabled:hover {\n",
              "    background-color: var(--disabled-bg-color);\n",
              "    fill: var(--disabled-fill-color);\n",
              "    box-shadow: none;\n",
              "  }\n",
              "\n",
              "  .colab-df-spinner {\n",
              "    border: 2px solid var(--fill-color);\n",
              "    border-color: transparent;\n",
              "    border-bottom-color: var(--fill-color);\n",
              "    animation:\n",
              "      spin 1s steps(1) infinite;\n",
              "  }\n",
              "\n",
              "  @keyframes spin {\n",
              "    0% {\n",
              "      border-color: transparent;\n",
              "      border-bottom-color: var(--fill-color);\n",
              "      border-left-color: var(--fill-color);\n",
              "    }\n",
              "    20% {\n",
              "      border-color: transparent;\n",
              "      border-left-color: var(--fill-color);\n",
              "      border-top-color: var(--fill-color);\n",
              "    }\n",
              "    30% {\n",
              "      border-color: transparent;\n",
              "      border-left-color: var(--fill-color);\n",
              "      border-top-color: var(--fill-color);\n",
              "      border-right-color: var(--fill-color);\n",
              "    }\n",
              "    40% {\n",
              "      border-color: transparent;\n",
              "      border-right-color: var(--fill-color);\n",
              "      border-top-color: var(--fill-color);\n",
              "    }\n",
              "    60% {\n",
              "      border-color: transparent;\n",
              "      border-right-color: var(--fill-color);\n",
              "    }\n",
              "    80% {\n",
              "      border-color: transparent;\n",
              "      border-right-color: var(--fill-color);\n",
              "      border-bottom-color: var(--fill-color);\n",
              "    }\n",
              "    90% {\n",
              "      border-color: transparent;\n",
              "      border-bottom-color: var(--fill-color);\n",
              "    }\n",
              "  }\n",
              "</style>\n",
              "\n",
              "  <script>\n",
              "    async function quickchart(key) {\n",
              "      const quickchartButtonEl =\n",
              "        document.querySelector('#' + key + ' button');\n",
              "      quickchartButtonEl.disabled = true;  // To prevent multiple clicks.\n",
              "      quickchartButtonEl.classList.add('colab-df-spinner');\n",
              "      try {\n",
              "        const charts = await google.colab.kernel.invokeFunction(\n",
              "            'suggestCharts', [key], {});\n",
              "      } catch (error) {\n",
              "        console.error('Error during call to suggestCharts:', error);\n",
              "      }\n",
              "      quickchartButtonEl.classList.remove('colab-df-spinner');\n",
              "      quickchartButtonEl.classList.add('colab-df-quickchart-complete');\n",
              "    }\n",
              "    (() => {\n",
              "      let quickchartButtonEl =\n",
              "        document.querySelector('#df-3d67373c-5831-4765-8e86-a5b715750f25 button');\n",
              "      quickchartButtonEl.style.display =\n",
              "        google.colab.kernel.accessAllowed ? 'block' : 'none';\n",
              "    })();\n",
              "  </script>\n",
              "</div>\n",
              "\n",
              "    </div>\n",
              "  </div>\n"
            ],
            "application/vnd.google.colaboratory.intrinsic+json": {
              "type": "dataframe",
              "summary": "{\n  \"name\": \"data\",\n  \"rows\": 8,\n  \"fields\": [\n    {\n      \"column\": \"Fertilizer\",\n      \"properties\": {\n        \"dtype\": \"number\",\n        \"std\": 36.23628494598741,\n        \"min\": 0.5522117123602399,\n        \"max\": 100.0,\n        \"num_unique_values\": 8,\n        \"samples\": [\n          47.018074337820934,\n          46.41424546894926,\n          100.0\n        ],\n        \"semantic_type\": \"\",\n        \"description\": \"\"\n      }\n    },\n    {\n      \"column\": \"Yield\",\n      \"properties\": {\n        \"dtype\": \"number\",\n        \"std\": 31.677246026575247,\n        \"min\": -0.33575672564211256,\n        \"max\": 100.0,\n        \"num_unique_values\": 8,\n        \"samples\": [\n          25.503635368073684,\n          23.155531983982414,\n          100.0\n        ],\n        \"semantic_type\": \"\",\n        \"description\": \"\"\n      }\n    }\n  ]\n}"
            }
          },
          "metadata": {},
          "execution_count": 4
        }
      ],
      "source": [
        "# Statistiques descriptives\n",
        "data.describe()"
      ]
    },
    {
      "cell_type": "markdown",
      "id": "interpretation-statistiques",
      "metadata": {
        "id": "interpretation-statistiques"
      },
      "source": [
        "**Interprétation** : Les statistiques descriptives nous donnent des informations sur la moyenne, l'écart-type, les valeurs minimales et maximales, et les quartiles des variables 'Fertilizer' et 'Yield'. Cela nous aide à comprendre la distribution et la dispersion des données."
      ]
    },
    {
      "cell_type": "code",
      "execution_count": 5,
      "id": "distribution-variables",
      "metadata": {
        "colab": {
          "base_uri": "https://localhost:8080/",
          "height": 410
        },
        "id": "distribution-variables",
        "outputId": "7a24ab21-b804-47b4-acaf-60ff8d95a4f9"
      },
      "outputs": [
        {
          "output_type": "display_data",
          "data": {
            "text/plain": [
              "<Figure size 1000x400 with 2 Axes>"
            ],
            "image/png": "[encoded data removed]"
          },
          "metadata": {}
        }
      ],
      "source": [
        "# Visualisation de la distribution des variables\n",
        "\n",
        "# Histogramme de Fertilizer\n",
        "plt.figure(figsize=(10,4))\n",
        "plt.subplot(1,2,1)\n",
        "sns.histplot(data['Fertilizer'], kde=True, color='green')\n",
        "plt.title('Distribution de la Quantité de Fertilisant')\n",
        "\n",
        "# Histogramme de Yield\n",
        "plt.subplot(1,2,2)\n",
        "sns.histplot(data['Yield'], kde=True, color='orange')\n",
        "plt.title('Distribution du Rendement en Céréales')\n",
        "\n",
        "plt.show()"
      ]
    },
    {
      "cell_type": "code",
      "execution_count": 6,
      "id": "nuage-points",
      "metadata": {
        "colab": {
          "base_uri": "https://localhost:8080/",
          "height": 565
        },
        "id": "nuage-points",
        "outputId": "ceec7546-a87a-43e2-9625-059f3349f370"
      },
      "outputs": [
        {
          "output_type": "display_data",
          "data": {
            "text/plain": [
              "<Figure size 800x600 with 1 Axes>"
            ],
            "image/png": "[encoded data removed]"
          },
          "metadata": {}
        }
      ],
      "source": [
        "# Création d'un nuage de points\n",
        "plt.figure(figsize=(8,6))\n",
        "sns.scatterplot(x='Fertilizer', y='Yield', data=data)\n",
        "plt.title('Relation entre le Fertilisant et le Rendement')\n",
        "plt.xlabel('Quantité de Fertilisant (kg/ha)')\n",
        "plt.ylabel('Rendement (tonnes/ha)')\n",
        "plt.show()"
      ]
    },
    {
      "cell_type": "markdown",
      "id": "pretraitement-donnees",
      "metadata": {
        "id": "pretraitement-donnees"
      },
      "source": [
        "# Prétraitement des Données\n",
        "\n",
        "Nous allons :\n",
        "\n",
        "- Vérifier les valeurs manquantes.\n",
        "- Détecter et traiter les valeurs aberrantes.\n",
        "- Séparer les données en ensembles d'entraînement et de test.\n",
        "\n",
        "---"
      ]
    },
    {
      "cell_type": "code",
      "execution_count": 7,
      "id": "valeurs-manquantes",
      "metadata": {
        "colab": {
          "base_uri": "https://localhost:8080/",
          "height": 147
        },
        "id": "valeurs-manquantes",
        "outputId": "2725fd9e-93f7-4ae1-f919-c0f3f0f914b8"
      },
      "outputs": [
        {
          "output_type": "execute_result",
          "data": {
            "text/plain": [
              "Fertilizer    0\n",
              "Yield         0\n",
              "dtype: int64"
            ],
            "text/html": [
              "<div>\n",
              "<style scoped>\n",
              "    .dataframe tbody tr th:only-of-type {\n",
              "        vertical-align: middle;\n",
              "    }\n",
              "\n",
              "    .dataframe tbody tr th {\n",
              "        vertical-align: top;\n",
              "    }\n",
              "\n",
              "    .dataframe thead th {\n",
              "        text-align: right;\n",
              "    }\n",
              "</style>\n",
              "<table border=\"1\" class=\"dataframe\">\n",
              "  <thead>\n",
              "    <tr style=\"text-align: right;\">\n",
              "      <th></th>\n",
              "      <th>0</th>\n",
              "    </tr>\n",
              "  </thead>\n",
              "  <tbody>\n",
              "    <tr>\n",
              "      <th>Fertilizer</th>\n",
              "      <td>0</td>\n",
              "    </tr>\n",
              "    <tr>\n",
              "      <th>Yield</th>\n",
              "      <td>0</td>\n",
              "    </tr>\n",
              "  </tbody>\n",
              "</table>\n",
              "</div><br><label><b>dtype:</b> int64</label>"
            ]
          },
          "metadata": {},
          "execution_count": 7
        }
      ],
      "source": [
        "# Vérification des valeurs manquantes\n",
        "data.isnull().sum()"
      ]
    },
    {
      "cell_type": "markdown",
      "id": "traitement-valeurs-aberrantes",
      "metadata": {
        "id": "traitement-valeurs-aberrantes"
      },
      "source": [
        "## Détection et Traitement des Valeurs Aberrantes\n",
        "\n",
        "Nous utilisons des boîtes à moustaches pour détecter les outliers.\n",
        "\n",
        "---"
      ]
    },
    {
      "cell_type": "code",
      "execution_count": 8,
      "id": "boxplot-outliers",
      "metadata": {
        "colab": {
          "base_uri": "https://localhost:8080/",
          "height": 367
        },
        "id": "boxplot-outliers",
        "outputId": "47fa2314-5f2b-41d9-a0ed-cc96274c857c"
      },
      "outputs": [
        {
          "output_type": "display_data",
          "data": {
            "text/plain": [
              "<Figure size 1000x400 with 2 Axes>"
            ],
            "image/png": "[encoded data removed]"
          },
          "metadata": {}
        }
      ],
      "source": [
        "# Boîte à moustaches pour détecter les outliers\n",
        "plt.figure(figsize=(10,4))\n",
        "plt.subplot(1,2,1)\n",
        "sns.boxplot(y='Fertilizer', data=data, color='green')\n",
        "plt.title('Boîte à moustaches de Fertilizer')\n",
        "\n",
        "plt.subplot(1,2,2)\n",
        "sns.boxplot(y='Yield', data=data, color='orange')\n",
        "plt.title('Boîte à moustaches de Yield')\n",
        "\n",
        "plt.show()"
      ]
    },
    {
      "cell_type": "markdown",
      "id": "separation-ensembles",
      "metadata": {
        "id": "separation-ensembles"
      },
      "source": [
        "## Séparation des Données en Ensembles d'Entraînement et de Test\n",
        "\n",
        "Nous séparons les données pour évaluer le modèle sur des données non vues.\n",
        "\n",
        "---"
      ]
    },
    {
      "cell_type": "code",
      "execution_count": 9,
      "id": "train-test-split",
      "metadata": {
        "id": "train-test-split"
      },
      "outputs": [],
      "source": [
        "# Séparation des variables indépendantes et dépendantes\n",
        "X = data[['Fertilizer']]\n",
        "y = data['Yield']\n",
        "\n",
        "# Division en ensembles d'entraînement et de test\n",
        "X_train, X_test, y_train, y_test = train_test_split(X, y, test_size=0.2, random_state=42)"
      ]
    },
    {
      "cell_type": "markdown",
      "id": "implementation-modele",
      "metadata": {
        "id": "implementation-modele"
      },
      "source": [
        "# Implémentation de la Régression Linéaire Simple\n",
        "\n",
        "Nous allons :\n",
        "\n",
        "- Calculer manuellement les coefficients.\n",
        "- Utiliser la classe `LinearRegression` de scikit-learn.\n",
        "\n",
        "---"
      ]
    },
    {
      "cell_type": "markdown",
      "id": "calcul-manuel-coefficients",
      "metadata": {
        "id": "calcul-manuel-coefficients"
      },
      "source": [
        "## Calcul Manuel des Coefficients\n",
        "\n",
        "Nous utilisons la formule des moindres carrés ordinaires (OLS) pour calculer les coefficients.\n",
        "\n",
        "$$\n",
        " \\beta = (X^T X)^{-1} X^T y\n",
        "$$\n",
        "\n",
        "---"
      ]
    },
    {
      "cell_type": "code",
      "execution_count": 10,
      "id": "calcul-coefficients",
      "metadata": {
        "colab": {
          "base_uri": "https://localhost:8080/"
        },
        "id": "calcul-coefficients",
        "outputId": "19d8bca5-7c99-4d5c-b1ca-464d3b871fcf"
      },
      "outputs": [
        {
          "output_type": "stream",
          "name": "stdout",
          "text": [
            "Ordonnée à l'origine (interception): 2.71\n",
            "Pente: 0.48\n"
          ]
        }
      ],
      "source": [
        "# Ajout d'une colonne de biais (interception)\n",
        "X_b = np.c_[np.ones((X_train.shape[0], 1)), X_train]\n",
        "\n",
        "# Calcul des coefficients\n",
        "theta_best = np.linalg.inv(X_b.T.dot(X_b)).dot(X_b.T).dot(y_train)\n",
        "\n",
        "print(f\"Ordonnée à l'origine (interception): {theta_best[0]:.2f}\")\n",
        "print(f\"Pente: {theta_best[1]:.2f}\")"
      ]
    },
    {
      "cell_type": "markdown",
      "id": "utilisation-scikit-learn",
      "metadata": {
        "id": "utilisation-scikit-learn"
      },
      "source": [
        "## Utilisation de la Classe `LinearRegression`\n",
        "\n",
        "Nous utilisons scikit-learn pour entraîner le modèle.\n",
        "\n",
        "---"
      ]
    },
    {
      "cell_type": "code",
      "execution_count": 11,
      "id": "entrainement-modele",
      "metadata": {
        "colab": {
          "base_uri": "https://localhost:8080/"
        },
        "id": "entrainement-modele",
        "outputId": "e25ee4e3-7762-4963-8a0f-20b35c78c7ab"
      },
      "outputs": [
        {
          "output_type": "stream",
          "name": "stdout",
          "text": [
            "Ordonnée à l'origine (interception): 2.71\n",
            "Pente: 0.48\n"
          ]
        }
      ],
      "source": [
        "# Création du modèle\n",
        "model = LinearRegression()\n",
        "\n",
        "# Entraînement du modèle\n",
        "model.fit(X_train, y_train)\n",
        "\n",
        "# Coefficients du modèle\n",
        "print(f\"Ordonnée à l'origine (interception): {model.intercept_:.2f}\")\n",
        "print(f\"Pente: {model.coef_[0]:.2f}\")"
      ]
    },
    {
      "cell_type": "markdown",
      "id": "evaluation-modele",
      "metadata": {
        "id": "evaluation-modele"
      },
      "source": [
        "# Évaluation du Modèle\n",
        "\n",
        "Nous allons :\n",
        "\n",
        "- Calculer les métriques de performance.\n",
        "- Interpréter les résultats.\n",
        "\n",
        "---"
      ]
    },
    {
      "cell_type": "code",
      "execution_count": 12,
      "id": "calcul-metrics",
      "metadata": {
        "colab": {
          "base_uri": "https://localhost:8080/"
        },
        "id": "calcul-metrics",
        "outputId": "6cc0d39b-4f03-4331-c7ed-49f28e5d691c"
      },
      "outputs": [
        {
          "output_type": "stream",
          "name": "stdout",
          "text": [
            "Mean Squared Error (MSE): 16.34\n",
            "Root Mean Squared Error (RMSE): 4.04\n",
            "Mean Absolute Error (MAE): 2.96\n",
            "Coefficient de Détermination (R²): 0.93\n"
          ]
        }
      ],
      "source": [
        "# Prédictions sur l'ensemble de test\n",
        "y_pred = model.predict(X_test)\n",
        "\n",
        "# Calcul des métriques\n",
        "mse = mean_squared_error(y_test, y_pred)\n",
        "rmse = np.sqrt(mse)\n",
        "mae = mean_absolute_error(y_test, y_pred)\n",
        "r2 = r2_score(y_test, y_pred)\n",
        "\n",
        "print(f\"Mean Squared Error (MSE): {mse:.2f}\")\n",
        "print(f\"Root Mean Squared Error (RMSE): {rmse:.2f}\")\n",
        "print(f\"Mean Absolute Error (MAE): {mae:.2f}\")\n",
        "print(f\"Coefficient de Détermination (R²): {r2:.2f}\")"
      ]
    },
    {
      "cell_type": "markdown",
      "id": "interpretation-resultats",
      "metadata": {
        "id": "interpretation-resultats"
      },
      "source": [
        "## Interprétation des Résultats\n",
        "\n",
        "- **MSE** : Plus la valeur est faible, mieux c'est. Elle mesure la moyenne des erreurs au carré.\n",
        "- **RMSE** : Donne une idée de l'erreur moyenne en unités de la variable dépendante.\n",
        "- **MAE** : Indique l'erreur moyenne absolue entre les prédictions et les valeurs réelles.\n",
        "- **R²** : Plus il est proche de 1, mieux le modèle explique la variance des données.\n",
        "\n",
        "---"
      ]
    },
    {
      "cell_type": "markdown",
      "id": "visualisation-resultats",
      "metadata": {
        "id": "visualisation-resultats"
      },
      "source": [
        "# Visualisation des Résultats\n",
        "\n",
        "Nous allons :\n",
        "\n",
        "- Tracer la droite de régression.\n",
        "- Visualiser les résidus.\n",
        "\n",
        "---"
      ]
    },
    {
      "cell_type": "code",
      "execution_count": 13,
      "id": "trace-droite-regression",
      "metadata": {
        "colab": {
          "base_uri": "https://localhost:8080/",
          "height": 565
        },
        "id": "trace-droite-regression",
        "outputId": "bce9a458-62e2-449a-f94f-55ed037c8c40"
      },
      "outputs": [
        {
          "output_type": "display_data",
          "data": {
            "text/plain": [
              "<Figure size 800x600 with 1 Axes>"
            ],
            "image/png": "[encoded data removed]"
          },
          "metadata": {}
        }
      ],
      "source": [
        "# Tracé de la droite de régression sur le nuage de points\n",
        "plt.figure(figsize=(8,6))\n",
        "plt.scatter(X_train, y_train, color='blue', label='Données d\\'entraînement')\n",
        "plt.plot(X_train, model.predict(X_train), color='red', label='Modèle entraîné')\n",
        "plt.title('Régression Linéaire - Ensemble d\\'entraînement')\n",
        "plt.xlabel('Quantité de Fertilisant (kg/ha)')\n",
        "plt.ylabel('Rendement (tonnes/ha)')\n",
        "plt.legend()\n",
        "plt.show()"
      ]
    },
    {
      "cell_type": "code",
      "execution_count": 14,
      "id": "visualisation-residus",
      "metadata": {
        "colab": {
          "base_uri": "https://localhost:8080/",
          "height": 565
        },
        "id": "visualisation-residus",
        "outputId": "71d85f76-1b90-46ae-b2ec-cbdb97372e8c"
      },
      "outputs": [
        {
          "output_type": "display_data",
          "data": {
            "text/plain": [
              "<Figure size 800x600 with 1 Axes>"
            ],
            "image/png": "[encoded data removed]"
          },
          "metadata": {}
        }
      ],
      "source": [
        "# Visualisation des résidus\n",
        "residuals = y_test - y_pred\n",
        "\n",
        "plt.figure(figsize=(8,6))\n",
        "sns.scatterplot(x=y_pred, y=residuals)\n",
        "plt.axhline(y=0, color='r', linestyle='--')\n",
        "plt.title('Graphique des résidus')\n",
        "plt.xlabel('Valeurs prédites')\n",
        "plt.ylabel('Résidus')\n",
        "plt.show()"
      ]
    },
    {
      "cell_type": "markdown",
      "id": "interpretation-residus",
      "metadata": {
        "id": "interpretation-residus"
      },
      "source": [
        "**Interprétation** : Le graphique des résidus nous permet de vérifier l'hypothèse d'homoscedasticité et de détecter d'éventuels motifs indiquant une mauvaise adéquation du modèle."
      ]
    },
    {
      "cell_type": "markdown",
      "id": "predictions-modele",
      "metadata": {
        "id": "predictions-modele"
      },
      "source": [
        "# Prédictions avec le Modèle\n",
        "\n",
        "Nous allons :\n",
        "\n",
        "- Utiliser le modèle pour faire des prédictions sur de nouvelles données.\n",
        "- Interpréter les prédictions.\n",
        "\n",
        "---"
      ]
    },
    {
      "cell_type": "code",
      "execution_count": 17,
      "id": "nouvelles-predictions",
      "metadata": {
        "colab": {
          "base_uri": "https://localhost:8080/"
        },
        "id": "nouvelles-predictions",
        "outputId": "9e70ef07-f4f3-4652-ef9e-7d0259859e6e"
      },
      "outputs": [
        {
          "output_type": "stream",
          "name": "stdout",
          "text": [
            "Pour une quantité de fertilisant de 12 kg/ha, le rendement prédit est de 8.47 tonnes/ha\n",
            "Pour une quantité de fertilisant de 50 kg/ha, le rendement prédit est de 26.71 tonnes/ha\n",
            "Pour une quantité de fertilisant de 90 kg/ha, le rendement prédit est de 45.91 tonnes/ha\n"
          ]
        }
      ],
      "source": [
        "# Nouvelles données (quantités de fertilisant) sous forme de DataFrame pandas\n",
        "X_new = pd.DataFrame({'Fertilizer': [10, 50, 90]})\n",
        "\n",
        "# Prédictions\n",
        "y_new = model.predict(X_new)\n",
        "\n",
        "# Affichage des prédictions\n",
        "for i, x in enumerate(X_new['Fertilizer']):\n",
        "    print(f\"Pour une quantité de fertilisant de {x} kg/ha, le rendement prédit est de {y_new[i]:.2f} tonnes/ha\")"
      ]
    },
    {
      "cell_type": "markdown",
      "id": "interpretation-predictions",
      "metadata": {
        "id": "interpretation-predictions"
      },
      "source": [
        "## Interprétation des Prédictions\n",
        "\n",
        "Le modèle nous permet d'estimer le rendement en fonction de la quantité de fertilisant appliquée. Ces prédictions peuvent aider les agriculteurs à optimiser l'utilisation des ressources pour maximiser le rendement.\n",
        "\n",
        "---"
      ]
    },
    {
      "cell_type": "markdown",
      "id": "diagnostic-modele",
      "metadata": {
        "id": "diagnostic-modele"
      },
      "source": [
        "# Diagnostic du Modèle\n",
        "\n",
        "Nous allons :\n",
        "\n",
        "- Vérifier les hypothèses de la régression linéaire.\n",
        "- Analyser les résidus.\n",
        "\n",
        "---"
      ]
    },
    {
      "cell_type": "code",
      "execution_count": 16,
      "id": "verification-hypotheses",
      "metadata": {
        "colab": {
          "base_uri": "https://localhost:8080/",
          "height": 564
        },
        "id": "verification-hypotheses",
        "outputId": "1cf93409-84c2-41bd-d675-67f90f0805a1"
      },
      "outputs": [
        {
          "output_type": "display_data",
          "data": {
            "text/plain": [
              "<Figure size 800x600 with 1 Axes>"
            ],
            "image/png": "[encoded data removed]"
          },
          "metadata": {}
        }
      ],
      "source": [
        "# Vérification de la normalité des résidus\n",
        "plt.figure(figsize=(8,6))\n",
        "sns.histplot(residuals, kde=True, color='purple')\n",
        "plt.title('Distribution des résidus')\n",
        "plt.xlabel('Résidus')\n",
        "plt.ylabel('Fréquence')\n",
        "plt.show()"
      ]
    },
    {
      "cell_type": "markdown",
      "id": "analyse-residus",
      "metadata": {
        "id": "analyse-residus"
      },
      "source": [
        "## Analyse des Résidus\n",
        "\n",
        "Si les résidus suivent une distribution normale centrée autour de zéro, cela suggère que les hypothèses du modèle sont satisfaites.\n",
        "\n",
        "---"
      ]
    },
    {
      "cell_type": "markdown",
      "id": "amelioration-modele",
      "metadata": {
        "id": "amelioration-modele"
      },
      "source": [
        "# Amélioration du Modèle\n",
        "\n",
        "## Techniques pour Améliorer les Performances\n",
        "\n",
        "- **Transformation des variables** : Appliquer des transformations (logarithme, racine carrée) pour linéariser les relations non linéaires.\n",
        "- **Ajout de variables explicatives** : Inclure d'autres facteurs influençant le rendement (type de sol, précipitations, etc.).\n",
        "- **Détection des outliers** : Identifier et traiter les valeurs aberrantes qui peuvent influencer le modèle.\n",
        "\n",
        "## Limites de la Régression Linéaire Simple\n",
        "\n",
        "- **Simplicité du modèle** : Ne capture pas les relations complexes entre les variables.\n",
        "- **Sensibilité aux outliers** : Les valeurs aberrantes peuvent avoir un impact significatif sur le modèle.\n",
        "- **Suppositions strictes** : Le modèle repose sur des hypothèses qui peuvent ne pas être satisfaites dans la réalité.\n",
        "\n",
        "---"
      ]
    },
    {
      "cell_type": "markdown",
      "id": "conclusion-recapitulatif",
      "metadata": {
        "id": "conclusion-recapitulatif"
      },
      "source": [
        "# Conclusion et Récapitulatif\n",
        "\n",
        "Nous avons :\n",
        "\n",
        "- **Exploré** le concept de régression linéaire simple et ses applications dans le contexte agricole.\n",
        "- **Créé** un dataset synthétique pour simuler la relation entre le fertilisant et le rendement.\n",
        "- **Implémenté** le modèle de régression linéaire simple manuellement et avec scikit-learn.\n",
        "- **Évalué** le modèle en utilisant diverses métriques et en analysant les résidus.\n",
        "- **Discuté** des moyens d'améliorer le modèle et des limites de la régression linéaire simple.\n",
        "\n",
        "**Auteur :** Omar Kennouche, fondateur de **AI Nexus One**\n",
        "\n",
        "*Merci d'avoir suivi ce notebook ! N'hésitez pas à explorer davantage et à appliquer ces techniques à vos propres données.*\n",
        "\n",
        "---"
      ]
    },
    {
      "cell_type": "markdown",
      "id": "exercices-pratiques",
      "metadata": {
        "id": "exercices-pratiques"
      },
      "source": [
        "# Exercices Pratiques\n",
        "\n",
        "1. **Modifier le Dataset** : Changez les paramètres de la génération des données (par exemple, la relation entre le fertilisant et le rendement) et observez l'impact sur le modèle.\n",
        "2. **Ajouter une Variable** : Incluez une nouvelle variable explicative (par exemple, le type de sol) et passez à une régression linéaire multiple.\n",
        "3. **Tester un Dataset Réel** : Utilisez un jeu de données réel lié à l'agriculture et appliquez les mêmes étapes.\n",
        "\n",
        "---"
      ]
    },
    {
      "cell_type": "markdown",
      "id": "lexique-termes",
      "metadata": {
        "id": "lexique-termes"
      },
      "source": [
        "# Lexique des Termes Techniques\n",
        "\n",
        "- **Régression linéaire** : Méthode statistique pour modéliser la relation entre une variable dépendante et une ou plusieurs variables indépendantes.\n",
        "- **Variable indépendante** : Variable utilisée pour prédire la variable dépendante (ex : quantité de fertilisant).\n",
        "- **Variable dépendante** : Variable cible que l'on cherche à prédire (ex : rendement en céréales).\n",
        "- **Pente (Coefficient)** : Indique l'effet moyen d'une unité de changement de la variable indépendante sur la variable dépendante.\n",
        "- **Ordonnée à l'origine (Intercept)** : Valeur de la variable dépendante lorsque la variable indépendante est nulle.\n",
        "- **Résidu** : Différence entre la valeur observée et la valeur prédite par le modèle.\n",
        "- **MSE** : Mean Squared Error, moyenne des erreurs quadratiques.\n",
        "- **RMSE** : Root Mean Squared Error, racine carrée du MSE.\n",
        "- **MAE** : Mean Absolute Error, moyenne des erreurs absolues.\n",
        "- **R²** : Coefficient de détermination, mesure la proportion de la variance expliquée par le modèle.\n",
        "\n",
        "---"
      ]
    },
    {
      "cell_type": "markdown",
      "id": "ressources-supplementaires",
      "metadata": {
        "id": "ressources-supplementaires"
      },
      "source": [
        "# Ressources Supplémentaires\n",
        "\n",
        "- [Documentation Scikit-Learn - Régression Linéaire](https://scikit-learn.org/stable/modules/linear_model.html#ordinary-least-squares)\n",
        "- [Cours sur la Régression Linéaire - OpenClassrooms](https://openclassrooms.com/fr/courses/4525286-realisez-des-analyses-statistiques-avec-python)\n",
        "- [Introduction à la Régression Linéaire - StatQuest (Vidéo)](https://www.youtube.com/watch?v=nk2CQITm_eo)\n",
        "- [Livre : \"An Introduction to Statistical Learning\" - Chapitre sur la Régression Linéaire](https://www.statlearning.com/)\n",
        "\n",
        "---"
      ]
    }
  ],
  "metadata": {
    "kernelspec": {
      "display_name": "Python 3",
      "language": "python",
      "name": "python3"
    },
    "language_info": {
      "name": "python",
      "version": ""
    },
    "colab": {
      "provenance": [],
      "include_colab_link": true
    }
  },
  "nbformat": 4,
  "nbformat_minor": 5
}