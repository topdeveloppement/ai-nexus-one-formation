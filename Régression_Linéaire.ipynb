{
  "nbformat": 4,
  "nbformat_minor": 0,
  "metadata": {
    "colab": {
      "provenance": [],
      "authorship_tag": "ABX9TyMSuH5Zf4+g6Ipgb2LvGKhm",
      "include_colab_link": true
    },
    "kernelspec": {
      "name": "python3",
      "display_name": "Python 3"
    },
    "language_info": {
      "name": "python"
    }
  },
  "cells": [
    {
      "cell_type": "markdown",
      "metadata": {
        "id": "view-in-github",
        "colab_type": "text"
      },
      "source": [
        "<a href=\"https://colab.research.google.com/github/topdeveloppement/ai-nexus-one-machine-learning/blob/main/R%C3%A9gression_Lin%C3%A9aire.ipynb\" target=\"_parent\"><img src=\"https://colab.research.google.com/assets/colab-badge.svg\" alt=\"Open In Colab\"/></a>"
      ]
    },
    {
      "cell_type": "markdown",
      "source": [
        "# Introduction à la Régression Linéaire\n",
        "\n",
        "Dans ce notebook, nous allons explorer la régression linéaire, une méthode de machine learning permettant de modéliser la relation entre une variable indépendante (comme la quantité de fertilisant appliqué) et une variable dépendante (comme le rendement des cultures).\n",
        "\n",
        "### Objectifs du Notebook\n",
        "1. Comprendre comment créer et visualiser un dataset synthétique.\n",
        "2. Apprendre à préparer les données pour la régression.\n",
        "3. Entraîner un modèle de régression linéaire.\n",
        "4. Évaluer et interpréter les performances du modèle.\n",
        "\n",
        "Suivez les étapes en exécutant les cellules de code et en lisant les explications.\n"
      ],
      "metadata": {
        "id": "__Dl9dUq47gQ"
      }
    },
    {
      "cell_type": "markdown",
      "source": [
        "### Étape 1 : Importation des Bibliothèques\n",
        "\n",
        "Nous utilisons les bibliothèques suivantes :\n",
        "- **NumPy** pour les calculs numériques.\n",
        "- **Pandas** pour organiser les données.\n",
        "- **Matplotlib** pour visualiser les données.\n",
        "- **Scikit-Learn** pour créer et évaluer le modèle de régression linéaire."
      ],
      "metadata": {
        "id": "rdhI0M6g5BVP"
      }
    },
    {
      "cell_type": "code",
      "source": [
        "# Importation des bibliothèques nécessaires\n",
        "import numpy as np\n",
        "import pandas as pd\n",
        "import matplotlib.pyplot as plt\n",
        "from sklearn.model_selection import train_test_split\n",
        "from sklearn.linear_model import LinearRegression\n",
        "from sklearn.metrics import mean_squared_error\n",
        "\n",
        "print(\"Les bibliothèques sont importées avec succès.\")"
      ],
      "metadata": {
        "colab": {
          "base_uri": "https://localhost:8080/"
        },
        "id": "HgYQIgES5Giu",
        "outputId": "830d94b9-895a-4e6b-fa89-cd3d2fcb867f"
      },
      "execution_count": null,
      "outputs": [
        {
          "output_type": "stream",
          "name": "stdout",
          "text": [
            "Les bibliothèques sont importées avec succès.\n"
          ]
        }
      ]
    },
    {
      "cell_type": "markdown",
      "source": [
        "### Étape 2 : Création d'un Dataset Synthétique\n",
        "\n",
        "Nous allons créer un dataset simulant la relation entre la **quantité de fertilisant appliqué** (en kg/ha) et le **rendement des cultures** (en quintaux par hectare)."
      ],
      "metadata": {
        "id": "zvFLNGBS5KYb"
      }
    },
    {
      "cell_type": "code",
      "source": [
        "# Fixer la graine aléatoire pour des résultats reproductibles\n",
        "# Cela permet de reproduire exactement les mêmes résultats et donc de valider le travail.\n",
        "# En fixant la graine à 42, les valeurs aléatoires générées seront les mêmes chaque fois que ce code sera exécuté\n",
        "np.random.seed(42)\n",
        "\n",
        "# Générer les données pour simuler un dataset agricole\n",
        "\n",
        "# Définir le nombre d'exemples (ou parcelles agricoles) dans le dataset\n",
        "# Ici, nous générons 50 échantillons, chacun représentant une parcelle avec une quantité de fertilisant appliqué et le rendement associé\n",
        "n_samples = 50\n",
        "\n",
        "# Générer des valeurs pour la quantité de fertilisant appliqué (en kg/ha)\n",
        "# La fonction np.linspace(0, 200, n_samples) crée 50 valeurs régulièrement espacées entre 0 et 200 kg/ha\n",
        "# Cela nous permet de couvrir une gamme de quantités de fertilisant appliquées dans notre simulation\n",
        "fertilisant_kg = np.linspace(0, 200, n_samples)\n",
        "\n",
        "# Calculer le rendement en fonction de la quantité de fertilisant, avec une relation linéaire et une variation aléatoire\n",
        "# Nous utilisons une relation linéaire de base : rendement = 10 + (0.1 * fertilisant_kg)\n",
        "# Le terme np.random.normal(0, 2, n_samples) ajoute une petite variation aléatoire autour de chaque valeur de rendement\n",
        "# Cette variation rend les données plus réalistes, simulant des fluctuations naturelles dans le rendement agricole\n",
        "rendement_qt = 10 + 0.1 * fertilisant_kg + np.random.normal(0, 2, n_samples)\n",
        "\n",
        "\n",
        "# Organiser les données dans un DataFrame\n",
        "dataset = pd.DataFrame({\n",
        "    \"fertilisant_kg\": fertilisant_kg,\n",
        "    \"rendement_qt\": rendement_qt\n",
        "})\n",
        "\n",
        "# Afficher les premières lignes pour vérifier\n",
        "dataset.head()"
      ],
      "metadata": {
        "colab": {
          "base_uri": "https://localhost:8080/",
          "height": 206
        },
        "id": "E_hhlqo75NgV",
        "outputId": "a51a8659-fdf8-44a9-f79d-f31410e13cc9"
      },
      "execution_count": null,
      "outputs": [
        {
          "output_type": "execute_result",
          "data": {
            "text/plain": [
              "   fertilisant_kg  rendement_qt\n",
              "0        0.000000     10.993428\n",
              "1        4.081633     10.131635\n",
              "2        8.163265     12.111704\n",
              "3       12.244898     14.270550\n",
              "4       16.326531     11.164346"
            ],
            "text/html": [
              "\n",
              "  <div id=\"df-15362c3d-2e51-4484-8afd-0b61e1952eec\" class=\"colab-df-container\">\n",
              "    <div>\n",
              "<style scoped>\n",
              "    .dataframe tbody tr th:only-of-type {\n",
              "        vertical-align: middle;\n",
              "    }\n",
              "\n",
              "    .dataframe tbody tr th {\n",
              "        vertical-align: top;\n",
              "    }\n",
              "\n",
              "    .dataframe thead th {\n",
              "        text-align: right;\n",
              "    }\n",
              "</style>\n",
              "<table border=\"1\" class=\"dataframe\">\n",
              "  <thead>\n",
              "    <tr style=\"text-align: right;\">\n",
              "      <th></th>\n",
              "      <th>fertilisant_kg</th>\n",
              "      <th>rendement_qt</th>\n",
              "    </tr>\n",
              "  </thead>\n",
              "  <tbody>\n",
              "    <tr>\n",
              "      <th>0</th>\n",
              "      <td>0.000000</td>\n",
              "      <td>10.993428</td>\n",
              "    </tr>\n",
              "    <tr>\n",
              "      <th>1</th>\n",
              "      <td>4.081633</td>\n",
              "      <td>10.131635</td>\n",
              "    </tr>\n",
              "    <tr>\n",
              "      <th>2</th>\n",
              "      <td>8.163265</td>\n",
              "      <td>12.111704</td>\n",
              "    </tr>\n",
              "    <tr>\n",
              "      <th>3</th>\n",
              "      <td>12.244898</td>\n",
              "      <td>14.270550</td>\n",
              "    </tr>\n",
              "    <tr>\n",
              "      <th>4</th>\n",
              "      <td>16.326531</td>\n",
              "      <td>11.164346</td>\n",
              "    </tr>\n",
              "  </tbody>\n",
              "</table>\n",
              "</div>\n",
              "    <div class=\"colab-df-buttons\">\n",
              "\n",
              "  <div class=\"colab-df-container\">\n",
              "    <button class=\"colab-df-convert\" onclick=\"convertToInteractive('df-15362c3d-2e51-4484-8afd-0b61e1952eec')\"\n",
              "            title=\"Convert this dataframe to an interactive table.\"\n",
              "            style=\"display:none;\">\n",
              "\n",
              "  <svg xmlns=\"http://www.w3.org/2000/svg\" height=\"24px\" viewBox=\"0 -960 960 960\">\n",
              "    <path d=\"M120-120v-720h720v720H120Zm60-500h600v-160H180v160Zm220 220h160v-160H400v160Zm0 220h160v-160H400v160ZM180-400h160v-160H180v160Zm440 0h160v-160H620v160ZM180-180h160v-160H180v160Zm440 0h160v-160H620v160Z\"/>\n",
              "  </svg>\n",
              "    </button>\n",
              "\n",
              "  <style>\n",
              "    .colab-df-container {\n",
              "      display:flex;\n",
              "      gap: 12px;\n",
              "    }\n",
              "\n",
              "    .colab-df-convert {\n",
              "      background-color: #E8F0FE;\n",
              "      border: none;\n",
              "      border-radius: 50%;\n",
              "      cursor: pointer;\n",
              "      display: none;\n",
              "      fill: #1967D2;\n",
              "      height: 32px;\n",
              "      padding: 0 0 0 0;\n",
              "      width: 32px;\n",
              "    }\n",
              "\n",
              "    .colab-df-convert:hover {\n",
              "      background-color: #E2EBFA;\n",
              "      box-shadow: 0px 1px 2px rgba(60, 64, 67, 0.3), 0px 1px 3px 1px rgba(60, 64, 67, 0.15);\n",
              "      fill: #174EA6;\n",
              "    }\n",
              "\n",
              "    .colab-df-buttons div {\n",
              "      margin-bottom: 4px;\n",
              "    }\n",
              "\n",
              "    [theme=dark] .colab-df-convert {\n",
              "      background-color: #3B4455;\n",
              "      fill: #D2E3FC;\n",
              "    }\n",
              "\n",
              "    [theme=dark] .colab-df-convert:hover {\n",
              "      background-color: #434B5C;\n",
              "      box-shadow: 0px 1px 3px 1px rgba(0, 0, 0, 0.15);\n",
              "      filter: drop-shadow(0px 1px 2px rgba(0, 0, 0, 0.3));\n",
              "      fill: #FFFFFF;\n",
              "    }\n",
              "  </style>\n",
              "\n",
              "    <script>\n",
              "      const buttonEl =\n",
              "        document.querySelector('#df-15362c3d-2e51-4484-8afd-0b61e1952eec button.colab-df-convert');\n",
              "      buttonEl.style.display =\n",
              "        google.colab.kernel.accessAllowed ? 'block' : 'none';\n",
              "\n",
              "      async function convertToInteractive(key) {\n",
              "        const element = document.querySelector('#df-15362c3d-2e51-4484-8afd-0b61e1952eec');\n",
              "        const dataTable =\n",
              "          await google.colab.kernel.invokeFunction('convertToInteractive',\n",
              "                                                    [key], {});\n",
              "        if (!dataTable) return;\n",
              "\n",
              "        const docLinkHtml = 'Like what you see? Visit the ' +\n",
              "          '<a target=\"_blank\" href=https://colab.research.google.com/notebooks/data_table.ipynb>data table notebook</a>'\n",
              "          + ' to learn more about interactive tables.';\n",
              "        element.innerHTML = '';\n",
              "        dataTable['output_type'] = 'display_data';\n",
              "        await google.colab.output.renderOutput(dataTable, element);\n",
              "        const docLink = document.createElement('div');\n",
              "        docLink.innerHTML = docLinkHtml;\n",
              "        element.appendChild(docLink);\n",
              "      }\n",
              "    </script>\n",
              "  </div>\n",
              "\n",
              "\n",
              "<div id=\"df-927211a9-6268-4494-b0e6-d417a1fc2c28\">\n",
              "  <button class=\"colab-df-quickchart\" onclick=\"quickchart('df-927211a9-6268-4494-b0e6-d417a1fc2c28')\"\n",
              "            title=\"Suggest charts\"\n",
              "            style=\"display:none;\">\n",
              "\n",
              "<svg xmlns=\"http://www.w3.org/2000/svg\" height=\"24px\"viewBox=\"0 0 24 24\"\n",
              "     width=\"24px\">\n",
              "    <g>\n",
              "        <path d=\"M19 3H5c-1.1 0-2 .9-2 2v14c0 1.1.9 2 2 2h14c1.1 0 2-.9 2-2V5c0-1.1-.9-2-2-2zM9 17H7v-7h2v7zm4 0h-2V7h2v10zm4 0h-2v-4h2v4z\"/>\n",
              "    </g>\n",
              "</svg>\n",
              "  </button>\n",
              "\n",
              "<style>\n",
              "  .colab-df-quickchart {\n",
              "      --bg-color: #E8F0FE;\n",
              "      --fill-color: #1967D2;\n",
              "      --hover-bg-color: #E2EBFA;\n",
              "      --hover-fill-color: #174EA6;\n",
              "      --disabled-fill-color: #AAA;\n",
              "      --disabled-bg-color: #DDD;\n",
              "  }\n",
              "\n",
              "  [theme=dark] .colab-df-quickchart {\n",
              "      --bg-color: #3B4455;\n",
              "      --fill-color: #D2E3FC;\n",
              "      --hover-bg-color: #434B5C;\n",
              "      --hover-fill-color: #FFFFFF;\n",
              "      --disabled-bg-color: #3B4455;\n",
              "      --disabled-fill-color: #666;\n",
              "  }\n",
              "\n",
              "  .colab-df-quickchart {\n",
              "    background-color: var(--bg-color);\n",
              "    border: none;\n",
              "    border-radius: 50%;\n",
              "    cursor: pointer;\n",
              "    display: none;\n",
              "    fill: var(--fill-color);\n",
              "    height: 32px;\n",
              "    padding: 0;\n",
              "    width: 32px;\n",
              "  }\n",
              "\n",
              "  .colab-df-quickchart:hover {\n",
              "    background-color: var(--hover-bg-color);\n",
              "    box-shadow: 0 1px 2px rgba(60, 64, 67, 0.3), 0 1px 3px 1px rgba(60, 64, 67, 0.15);\n",
              "    fill: var(--button-hover-fill-color);\n",
              "  }\n",
              "\n",
              "  .colab-df-quickchart-complete:disabled,\n",
              "  .colab-df-quickchart-complete:disabled:hover {\n",
              "    background-color: var(--disabled-bg-color);\n",
              "    fill: var(--disabled-fill-color);\n",
              "    box-shadow: none;\n",
              "  }\n",
              "\n",
              "  .colab-df-spinner {\n",
              "    border: 2px solid var(--fill-color);\n",
              "    border-color: transparent;\n",
              "    border-bottom-color: var(--fill-color);\n",
              "    animation:\n",
              "      spin 1s steps(1) infinite;\n",
              "  }\n",
              "\n",
              "  @keyframes spin {\n",
              "    0% {\n",
              "      border-color: transparent;\n",
              "      border-bottom-color: var(--fill-color);\n",
              "      border-left-color: var(--fill-color);\n",
              "    }\n",
              "    20% {\n",
              "      border-color: transparent;\n",
              "      border-left-color: var(--fill-color);\n",
              "      border-top-color: var(--fill-color);\n",
              "    }\n",
              "    30% {\n",
              "      border-color: transparent;\n",
              "      border-left-color: var(--fill-color);\n",
              "      border-top-color: var(--fill-color);\n",
              "      border-right-color: var(--fill-color);\n",
              "    }\n",
              "    40% {\n",
              "      border-color: transparent;\n",
              "      border-right-color: var(--fill-color);\n",
              "      border-top-color: var(--fill-color);\n",
              "    }\n",
              "    60% {\n",
              "      border-color: transparent;\n",
              "      border-right-color: var(--fill-color);\n",
              "    }\n",
              "    80% {\n",
              "      border-color: transparent;\n",
              "      border-right-color: var(--fill-color);\n",
              "      border-bottom-color: var(--fill-color);\n",
              "    }\n",
              "    90% {\n",
              "      border-color: transparent;\n",
              "      border-bottom-color: var(--fill-color);\n",
              "    }\n",
              "  }\n",
              "</style>\n",
              "\n",
              "  <script>\n",
              "    async function quickchart(key) {\n",
              "      const quickchartButtonEl =\n",
              "        document.querySelector('#' + key + ' button');\n",
              "      quickchartButtonEl.disabled = true;  // To prevent multiple clicks.\n",
              "      quickchartButtonEl.classList.add('colab-df-spinner');\n",
              "      try {\n",
              "        const charts = await google.colab.kernel.invokeFunction(\n",
              "            'suggestCharts', [key], {});\n",
              "      } catch (error) {\n",
              "        console.error('Error during call to suggestCharts:', error);\n",
              "      }\n",
              "      quickchartButtonEl.classList.remove('colab-df-spinner');\n",
              "      quickchartButtonEl.classList.add('colab-df-quickchart-complete');\n",
              "    }\n",
              "    (() => {\n",
              "      let quickchartButtonEl =\n",
              "        document.querySelector('#df-927211a9-6268-4494-b0e6-d417a1fc2c28 button');\n",
              "      quickchartButtonEl.style.display =\n",
              "        google.colab.kernel.accessAllowed ? 'block' : 'none';\n",
              "    })();\n",
              "  </script>\n",
              "</div>\n",
              "\n",
              "    </div>\n",
              "  </div>\n"
            ],
            "application/vnd.google.colaboratory.intrinsic+json": {
              "type": "dataframe",
              "variable_name": "dataset",
              "summary": "{\n  \"name\": \"dataset\",\n  \"rows\": 50,\n  \"fields\": [\n    {\n      \"column\": \"fertilisant_kg\",\n      \"properties\": {\n        \"dtype\": \"number\",\n        \"std\": 59.49950913107449,\n        \"min\": 0.0,\n        \"max\": 200.0,\n        \"num_unique_values\": 50,\n        \"samples\": [\n          53.06122448979592,\n          159.18367346938777,\n          122.44897959183673\n        ],\n        \"semantic_type\": \"\",\n        \"description\": \"\"\n      }\n    },\n    {\n      \"column\": \"rendement_qt\",\n      \"properties\": {\n        \"dtype\": \"number\",\n        \"std\": 5.8977469074465425,\n        \"min\": 10.131634662963753,\n        \"max\": 31.297917921825587,\n        \"num_unique_values\": 50,\n        \"samples\": [\n          11.479561959663997,\n          26.312089818677027,\n          21.041484734724882\n        ],\n        \"semantic_type\": \"\",\n        \"description\": \"\"\n      }\n    }\n  ]\n}"
            }
          },
          "metadata": {},
          "execution_count": 49
        }
      ]
    },
    {
      "cell_type": "markdown",
      "source": [
        "### Étape 3 : Visualisation du Dataset\n",
        "\n",
        "Nous allons tracer un nuage de points pour observer la relation entre la quantité de fertilisant appliqué et le rendement."
      ],
      "metadata": {
        "id": "vPPRNp6P5RRn"
      }
    },
    {
      "cell_type": "code",
      "source": [
        "# Tracer le nuage de points\n",
        "plt.figure(figsize=(10, 6))\n",
        "plt.scatter(dataset[\"fertilisant_kg\"], dataset[\"rendement_qt\"], color=\"purple\")\n",
        "plt.xlabel(\"Quantité de fertilisant (kg/ha)\")\n",
        "plt.ylabel(\"Rendement (q/ha)\")\n",
        "plt.title(\"Relation entre le fertilisant et le rendement\")\n",
        "plt.show()"
      ],
      "metadata": {
        "colab": {
          "base_uri": "https://localhost:8080/",
          "height": 565
        },
        "id": "t6AgKOuJ5UwY",
        "outputId": "a280da41-8695-48bf-f1a7-7a95dd559aec"
      },
      "execution_count": null,
      "outputs": [
        {
          "output_type": "display_data",
          "data": {
            "text/plain": [
              "<Figure size 1000x600 with 1 Axes>"
            ],
            "image/png": "[encoded data removed]"
          },
          "metadata": {}
        }
      ]
    },
    {
      "cell_type": "markdown",
      "source": [
        "### Étape 4 : Préparation des Données pour la Régression\n",
        "\n",
        "Nous séparons les données en :\n",
        "- **X** : la variable indépendante, ici la quantité de fertilisant.\n",
        "- **y** : la variable dépendante, ici le rendement des cultures."
      ],
      "metadata": {
        "id": "T3u6THUt5XpH"
      }
    },
    {
      "cell_type": "code",
      "source": [
        "# Définir X (caractéristique) et y (cible)\n",
        "X = dataset[[\"fertilisant_kg\"]].values\n",
        "y = dataset[\"rendement_qt\"].values"
      ],
      "metadata": {
        "id": "rNVxSLOv5aSG"
      },
      "execution_count": null,
      "outputs": []
    },
    {
      "cell_type": "markdown",
      "source": [
        "### Étape 5 : Division des Données en Ensembles d'Entraînement et de Test\n",
        "\n",
        "Nous utilisons `train_test_split` pour diviser les données en deux parties :\n",
        "- **Ensemble d'entraînement** (80%) : pour ajuster le modèle.\n",
        "- **Ensemble de test** (20%) : pour évaluer le modèle."
      ],
      "metadata": {
        "id": "EFpXOGok5c8W"
      }
    },
    {
      "cell_type": "code",
      "source": [
        "# Diviser les données\n",
        "X_train, X_test, y_train, y_test = train_test_split(X, y, test_size=0.2, random_state=0)"
      ],
      "metadata": {
        "id": "EMqkSzty5fa5"
      },
      "execution_count": null,
      "outputs": []
    },
    {
      "cell_type": "markdown",
      "source": [
        "### Étape 6 : Création et Entraînement du Modèle de Régression Linéaire\n",
        "\n",
        "Nous allons entraîner un modèle de régression linéaire pour ajuster une ligne aux données d'entraînement."
      ],
      "metadata": {
        "id": "80Q1xXCj5hYp"
      }
    },
    {
      "cell_type": "code",
      "source": [
        "# Initialiser et entraîner le modèle de régression linéaire\n",
        "modele = LinearRegression()\n",
        "modele.fit(X_train, y_train)\n",
        "\n",
        "# Afficher les paramètres du modèle\n",
        "print(\"Coefficient (pente) :\", modele.coef_[0])\n",
        "print(\"Ordonnée à l'origine :\", modele.intercept_)"
      ],
      "metadata": {
        "colab": {
          "base_uri": "https://localhost:8080/"
        },
        "id": "NHRTw6gA5jOa",
        "outputId": "3ee791ca-cb3b-47b8-bfae-7269dcae894c"
      },
      "execution_count": null,
      "outputs": [
        {
          "output_type": "stream",
          "name": "stdout",
          "text": [
            "Coefficient (pente) : 0.09350528293890958\n",
            "Ordonnée à l'origine : 10.105209672775626\n"
          ]
        }
      ]
    },
    {
      "cell_type": "markdown",
      "source": [
        "### Étape 7 : Prédiction et Évaluation du Modèle\n",
        "\n",
        "Nous faisons des prédictions sur les données de test et évaluons la performance avec l'erreur quadratique moyenne (MSE)."
      ],
      "metadata": {
        "id": "bw4XquCf5l0a"
      }
    },
    {
      "cell_type": "code",
      "source": [
        "# Faire des prédictions sur l'ensemble de test\n",
        "y_pred = modele.predict(X_test)\n",
        "\n",
        "# Calculer l'erreur quadratique moyenne (MSE)\n",
        "mse = mean_squared_error(y_test, y_pred)\n",
        "print(\"Erreur quadratique moyenne (MSE) :\", mse)"
      ],
      "metadata": {
        "colab": {
          "base_uri": "https://localhost:8080/"
        },
        "id": "cz1PMrpL5nSo",
        "outputId": "31f2c8be-f522-4bc9-cff3-e674993d8fdd"
      },
      "execution_count": null,
      "outputs": [
        {
          "output_type": "stream",
          "name": "stdout",
          "text": [
            "Erreur quadratique moyenne (MSE) : 2.9834182398717153\n"
          ]
        }
      ]
    },
    {
      "cell_type": "markdown",
      "source": [
        "### Étape 8 : Visualisation de la Ligne de Régression et des Données\n",
        "\n",
        "Nous allons visualiser les données et la ligne de régression pour voir comment le modèle s'adapte."
      ],
      "metadata": {
        "id": "4uxEGaJK5pF8"
      }
    },
    {
      "cell_type": "code",
      "source": [
        "plt.figure(figsize=(10, 6))\n",
        "\n",
        "# Points des données d'entraînement\n",
        "plt.scatter(X_train, y_train, color=\"blue\", label=\"Données d'entraînement\")\n",
        "\n",
        "# Points des données de test\n",
        "plt.scatter(X_test, y_test, color=\"green\", label=\"Données de test\")\n",
        "\n",
        "# Ligne de régression\n",
        "plt.plot(X_train, modele.predict(X_train), color=\"red\", label=\"Ligne de régression\")\n",
        "\n",
        "plt.xlabel(\"Quantité de fertilisant (kg/ha)\")\n",
        "plt.ylabel(\"Rendement (q/ha)\")\n",
        "plt.title(\"Ligne de régression et données\")\n",
        "plt.legend()\n",
        "plt.show()"
      ],
      "metadata": {
        "colab": {
          "base_uri": "https://localhost:8080/",
          "height": 565
        },
        "id": "uHsLV2OP5qdH",
        "outputId": "0ccd35ac-88c7-423b-f65f-23e6512b073e"
      },
      "execution_count": null,
      "outputs": [
        {
          "output_type": "display_data",
          "data": {
            "text/plain": [
              "<Figure size 1000x600 with 1 Axes>"
            ],
            "image/png": "[encoded data removed]"
          },
          "metadata": {}
        }
      ]
    },
    {
      "cell_type": "markdown",
      "source": [
        "### Conclusion\n",
        "\n",
        "La régression linéaire nous a permis de modéliser la relation entre la quantité de fertilisant appliqué et le rendement. Les résultats montrent une tendance linéaire, avec une légère variation dans les prédictions due aux fluctuations naturelles.\n",
        "\n",
        "- **Coefficient (pente)** : Indique la sensibilité du rendement aux variations de fertilisant.\n",
        "- **Ordonnée à l'origine** : Représente le rendement de base sans fertilisant.\n",
        "- **Erreur quadratique moyenne (MSE)** : Mesure de la précision des prédictions.\n",
        "\n",
        "Ce notebook montre toutes les étapes nécessaires pour appliquer une régression linéaire sur un dataset synthétique. Utilisez ces concepts sur vos propres données pour explorer davantage les possibilités de cette méthode."
      ],
      "metadata": {
        "id": "-w1yEHyH5ufg"
      }
    }
  ]
}