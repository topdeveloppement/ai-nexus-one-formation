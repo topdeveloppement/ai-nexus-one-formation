{
  "cells": [
    {
      "cell_type": "markdown",
      "metadata": {
        "id": "view-in-github",
        "colab_type": "text"
      },
      "source": [
        "<a href=\"https://colab.research.google.com/github/topdeveloppement/ai-nexus-one-machine-learning/blob/main/r%C3%A9gression_lin%C3%A9aire_simple.ipynb\" target=\"_parent\"><img src=\"https://colab.research.google.com/assets/colab-badge.svg\" alt=\"Open In Colab\"/></a>"
      ]
    },
    {
      "cell_type": "markdown",
      "id": "2af9d9f1",
      "metadata": {
        "id": "2af9d9f1"
      },
      "source": [
        "<img src=\"https://gitlab.com/ai-nexus-one-formation/machine-learning/-/raw/main/assets/images/ml.jpeg\" alt=\"AI Nexus One - Régression Linéaire\" />\n",
        "\n",
        "# 📈 Régression Linéaire : Guide Complet pour Débutants\n",
        "\n",
        "<img src=\"https://github.com/topdeveloppement.png\" alt=\"Photo de l'auteur\" width=\"100\"/>\n",
        "\n",
        "**Auteur :** Omar Kennouche, fondateur de **AI Nexus One**\n",
        "\n",
        "AI Nexus One est un projet ambitieux dédié à la formation et au développement de solutions en intelligence artificielle, visant à aider les entreprises à exploiter pleinement les technologies avancées pour optimiser leurs opérations et innover.\n",
        "\n",
        "---\n",
        "\n",
        "### À propos de ce Notebook\n",
        "\n",
        "Ce notebook vous guidera pas à pas dans la création d'un modèle de régression linéaire. Nous partirons de zéro, en générant un jeu de données synthétique, pour ensuite construire, entraîner, et évaluer un modèle. Ce guide est conçu pour vous fournir une compréhension solide des principes fondamentaux de la régression linéaire et vous donner les bases pour appliquer ces concepts dans des projets réels.\n",
        "\n",
        "---\n",
        "\n",
        "### 🎯 Objectifs du Notebook\n",
        "\n",
        "1. **Comprendre les fondements de la régression linéaire** : Découvrez comment et pourquoi la régression linéaire est utilisée en machine learning.\n",
        "2. **Créer et préparer un jeu de données** : Apprenez à générer des données synthétiques et à les préparer pour le modèle.\n",
        "3. **Entraîner un modèle de régression linéaire** : Suivez le processus pour construire un modèle qui s’adapte aux données.\n",
        "4. **Comparer et interpréter les fonctions de coût** : Explorez les deux fonctions de coût les plus couramment utilisées et comprenez leurs différences.\n",
        "5. **Visualiser et analyser les performances du modèle** : Visualisez les résultats et apprenez à interpréter les performances du modèle.\n",
        "\n",
        "> **Conseil** : Prenez le temps de bien lire chaque étape et de comprendre les explications pour une meilleure assimilation des concepts. Ce notebook est conçu pour être à la fois informatif et interactif — alors n’hésitez pas à tester, expérimenter et poser des questions en cours de route !\n",
        "\n",
        "---\n",
        "\n",
        "En suivant ce guide, vous serez mieux équipé pour aborder d'autres algorithmes de machine learning, avec une solide compréhension des bases. Alors, prêt(e) à plonger dans le monde fascinant de la régression linéaire ? 🚀\n"
      ]
    },
    {
      "cell_type": "markdown",
      "id": "768aaf05",
      "metadata": {
        "id": "768aaf05"
      },
      "source": [
        "\n",
        "### Introduction à la Régression Linéaire\n",
        "\n",
        "La régression linéaire est une méthode statistique permettant de modéliser la relation entre deux variables, l'une dépendante et l'autre indépendante. Elle cherche à ajuster une ligne (ou hyperplan en haute dimension) qui minimise l'écart entre les prédictions et les valeurs réelles.\n",
        "\n",
        "#### Équation de la Régression Linéaire Simple\n",
        "L'équation de base de la régression linéaire est :\n",
        "$$\n",
        "y = mx + b\n",
        "$$\n",
        "où :\n",
        "- **y** : variable dépendante (cible ou prédiction).\n",
        "- **x** : variable indépendante (caractéristique).\n",
        "- **m** : coefficient ou pente de la droite, qui indique la variation de **y** pour une variation de **x**.\n",
        "- **b** : ordonnée à l'origine, ou le point où la ligne croise l'axe des y quand x = 0.\n",
        "\n",
        "La régression linéaire cherche à déterminer les valeurs de **m** et **b** qui minimisent l'erreur entre les prédictions et les valeurs réelles.\n",
        "        "
      ]
    },
    {
      "cell_type": "markdown",
      "id": "2d8e03ea",
      "metadata": {
        "id": "2d8e03ea"
      },
      "source": [
        "\n",
        "### Étape 1 : Importation des Bibliothèques\n",
        "\n",
        "Nous utilisons les bibliothèques suivantes :\n",
        "- **NumPy** pour les calculs numériques et la génération de valeurs aléatoires.\n",
        "- **Pandas** pour organiser les données sous forme de tableau (DataFrame).\n",
        "- **Matplotlib** pour visualiser les données avec des graphiques.\n",
        "- **Scikit-Learn** pour créer et évaluer le modèle de régression linéaire.\n",
        "        "
      ]
    },
    {
      "cell_type": "code",
      "execution_count": null,
      "id": "f4f4ace1",
      "metadata": {
        "id": "f4f4ace1"
      },
      "outputs": [],
      "source": [
        "\n",
        "# Importation des bibliothèques nécessaires\n",
        "import numpy as np\n",
        "import pandas as pd\n",
        "import matplotlib.pyplot as plt\n",
        "from sklearn.model_selection import train_test_split\n",
        "from sklearn.linear_model import LinearRegression\n",
        "from sklearn.metrics import mean_squared_error, mean_absolute_error\n",
        "\n",
        "print(\"Les bibliothèques ont été importées avec succès.\")\n",
        ""
      ]
    },
    {
      "cell_type": "markdown",
      "id": "fedf71b7",
      "metadata": {
        "id": "fedf71b7"
      },
      "source": [
        "\n",
        "### Étape 2 : Fixer la Graine Aléatoire\n",
        "\n",
        "Nous fixons la **graine aléatoire** pour que les valeurs générées soient les mêmes chaque fois que le code est exécuté. Cela garantit que le résultat du notebook est **reproductible**, ce qui signifie que n'importe qui peut obtenir les mêmes résultats en exécutant le code.\n",
        "        "
      ]
    },
    {
      "cell_type": "code",
      "execution_count": null,
      "id": "00a597fd",
      "metadata": {
        "id": "00a597fd"
      },
      "outputs": [],
      "source": [
        "np.random.seed(42)  # Fixer la graine pour reproductibilité"
      ]
    },
    {
      "cell_type": "markdown",
      "id": "3f131424",
      "metadata": {
        "id": "3f131424"
      },
      "source": [
        "\n",
        "### Étape 3 : Génération d'un Dataset Synthétique\n",
        "\n",
        "Nous allons créer un dataset simulant la relation entre la quantité de fertilisant appliqué (en kg/ha) et le rendement des cultures (en quintaux/ha). Cette relation est linéaire avec une légère variation aléatoire, ce qui reflète des fluctuations naturelles dans les données.\n",
        "        "
      ]
    },
    {
      "cell_type": "code",
      "execution_count": null,
      "id": "4a0014e1",
      "metadata": {
        "id": "4a0014e1"
      },
      "outputs": [],
      "source": [
        "\n",
        "n_samples = 50\n",
        "fertilisant_kg = np.linspace(0, 200, n_samples)\n",
        "rendement_qt = 10 + 0.1 * fertilisant_kg + np.random.normal(0, 2, n_samples)\n",
        "dataset = pd.DataFrame({\"fertilisant_kg\": fertilisant_kg, \"rendement_qt\": rendement_qt})\n",
        "dataset.head()\n",
        ""
      ]
    },
    {
      "cell_type": "markdown",
      "id": "bc3d2c93",
      "metadata": {
        "id": "bc3d2c93"
      },
      "source": [
        "### Étape 4 : Visualisation du Dataset"
      ]
    },
    {
      "cell_type": "code",
      "execution_count": null,
      "id": "dc09c5fd",
      "metadata": {
        "id": "dc09c5fd"
      },
      "outputs": [],
      "source": [
        "\n",
        "plt.figure(figsize=(10, 6))\n",
        "plt.scatter(dataset[\"fertilisant_kg\"], dataset[\"rendement_qt\"], color=\"purple\")\n",
        "plt.xlabel(\"Quantité de fertilisant (kg/ha)\")\n",
        "plt.ylabel(\"Rendement (q/ha)\")\n",
        "plt.title(\"Relation entre le fertilisant et le rendement\")\n",
        "plt.show()\n",
        ""
      ]
    },
    {
      "cell_type": "markdown",
      "id": "9a498154",
      "metadata": {
        "id": "9a498154"
      },
      "source": [
        "### Étape 5 : Préparation des Données"
      ]
    },
    {
      "cell_type": "code",
      "execution_count": null,
      "id": "995a25c1",
      "metadata": {
        "id": "995a25c1"
      },
      "outputs": [],
      "source": [
        "X = dataset[['fertilisant_kg']].values\n",
        "y = dataset['rendement_qt'].values"
      ]
    },
    {
      "cell_type": "markdown",
      "id": "f5ff6b90",
      "metadata": {
        "id": "f5ff6b90"
      },
      "source": [
        "### Étape 6 : Division des Données en Ensembles d'Entraînement et de Test"
      ]
    },
    {
      "cell_type": "code",
      "execution_count": null,
      "id": "040006e2",
      "metadata": {
        "id": "040006e2"
      },
      "outputs": [],
      "source": [
        "X_train, X_test, y_train, y_test = train_test_split(X, y, test_size=0.2, random_state=0)"
      ]
    },
    {
      "cell_type": "markdown",
      "id": "f328b3aa",
      "metadata": {
        "id": "f328b3aa"
      },
      "source": [
        "\n",
        "### Étape 7 : Création et Entraînement du Modèle de Régression Linéaire\n",
        "\n",
        "Nous allons créer et entraîner le modèle en ajustant une ligne de régression pour nos données d'entraînement.\n",
        "        "
      ]
    },
    {
      "cell_type": "code",
      "execution_count": null,
      "id": "e291add8",
      "metadata": {
        "id": "e291add8"
      },
      "outputs": [],
      "source": [
        "\n",
        "modele = LinearRegression()\n",
        "modele.fit(X_train, y_train)\n",
        "\n",
        "# Afficher les paramètres du modèle\n",
        "print(\"Coefficient (pente) :\", modele.coef_[0])\n",
        "print(\"Ordonnée à l'origine :\", modele.intercept_)\n",
        ""
      ]
    },
    {
      "cell_type": "markdown",
      "id": "ecfff3e5",
      "metadata": {
        "id": "ecfff3e5"
      },
      "source": [
        "\n",
        "### Étape 8 : Fonction de Coût et Évaluation du Modèle\n",
        "\n",
        "En régression linéaire, la **fonction de coût** mesure l'écart entre les valeurs prédites et les valeurs réelles.\n",
        "\n",
        "Deux fonctions de coût courantes sont :\n",
        "1. **Erreur Quadratique Moyenne (Mean Squared Error, MSE)** :\n",
        "   $$\n",
        "   \\text{MSE} = \\frac{1}{n} \\sum_{i=1}^{n} (\\hat{y}_i - y_i)^2\n",
        "   $$\n",
        "2. **Erreur Absolue Moyenne (Mean Absolute Error, MAE)** :\n",
        "   $$\n",
        "   \\text{MAE} = \\frac{1}{n} \\sum_{i=1}^{n} |\\hat{y}_i - y_i|\n",
        "   $$\n",
        "\n",
        "Nous allons calculer les deux erreurs pour évaluer le modèle.\n",
        "        "
      ]
    },
    {
      "cell_type": "code",
      "execution_count": null,
      "id": "7e73f950",
      "metadata": {
        "id": "7e73f950"
      },
      "outputs": [],
      "source": [
        "\n",
        "y_pred = modele.predict(X_test)\n",
        "\n",
        "# Calculer les erreurs MSE et MAE\n",
        "mse = mean_squared_error(y_test, y_pred)\n",
        "mae = mean_absolute_error(y_test, y_pred)\n",
        "\n",
        "# Afficher les résultats\n",
        "print(\"Erreur Quadratique Moyenne (MSE) :\", mse)\n",
        "print(\"Erreur Absolue Moyenne (MAE) :\", mae)\n",
        ""
      ]
    },
    {
      "cell_type": "markdown",
      "id": "728dde0b",
      "metadata": {
        "id": "728dde0b"
      },
      "source": [
        "### Étape 9 : Visualisation de la Ligne de Régression"
      ]
    },
    {
      "cell_type": "code",
      "execution_count": null,
      "id": "fb0743ca",
      "metadata": {
        "id": "fb0743ca"
      },
      "outputs": [],
      "source": [
        "\n",
        "plt.figure(figsize=(10, 6))\n",
        "plt.scatter(X_train, y_train, color=\"blue\", label=\"Données d'entraînement\")\n",
        "plt.scatter(X_test, y_test, color=\"green\", label=\"Données de test\")\n",
        "plt.plot(X_train, modele.predict(X_train), color=\"red\", label=\"Ligne de régression\")\n",
        "plt.xlabel(\"Quantité de fertilisant (kg/ha)\")\n",
        "plt.ylabel(\"Rendement (q/ha)\")\n",
        "plt.title(\"Ligne de régression et données\")\n",
        "plt.legend()\n",
        "plt.show()\n",
        ""
      ]
    },
    {
      "cell_type": "markdown",
      "id": "bde1774e",
      "metadata": {
        "id": "bde1774e"
      },
      "source": [
        "\n",
        "### Conclusion\n",
        "\n",
        "Ce notebook vous a permis de suivre chaque étape d’une régression linéaire :\n",
        "1. Génération et visualisation des données.\n",
        "2. Préparation et séparation des données en ensembles d'entraînement et de test.\n",
        "3. Création et entraînement du modèle de régression linéaire.\n",
        "4. Évaluation du modèle à l'aide des fonctions de coût MSE et MAE.\n",
        "5. Visualisation des prédictions.\n",
        "\n",
        "**Auteur :** Omar Kennouche, fondateur de AI Nexus One.\n",
        "        "
      ]
    }
  ],
  "metadata": {
    "colab": {
      "provenance": [],
      "include_colab_link": true
    }
  },
  "nbformat": 4,
  "nbformat_minor": 5
}